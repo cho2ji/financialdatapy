{
 "cells": [
  {
   "cell_type": "code",
   "execution_count": 2,
   "id": "failing-eleven",
   "metadata": {},
   "outputs": [],
   "source": [
    "import json, time, requests, pandas as pd, re"
   ]
  },
  {
   "cell_type": "code",
   "execution_count": 273,
   "id": "minus-adolescent",
   "metadata": {},
   "outputs": [],
   "source": [
    "# 과학적 표기법 사용안함\n",
    "pd.options.display.float_format = '{:.2f}'.format"
   ]
  },
  {
   "cell_type": "code",
   "execution_count": 277,
   "id": "fresh-croatia",
   "metadata": {},
   "outputs": [
    {
     "name": "stdout",
     "output_type": "stream",
     "text": [
      "0.5472970008850098 s\n"
     ]
    }
   ],
   "source": [
    "# API로 데이터 불러오기\n",
    "start_time = time.time()\n",
    "headers = {'User-Agent' : 'Mozilla/5.0 (Macintosh; Intel Mac OS X 10_15_7) AppleWebKit/537.36 (KHTML, like Gecko) Chrome/90.0.4430.212 Safari/537.36'}\n",
    "api_url = 'https://api.nasdaq.com/api/screener/stocks?tableonly=true&limit=2&offset=1&region=north_america'\n",
    "api = requests.get(api_url, headers=headers)\n",
    "print(f\"{time.time()-start_time} s\")"
   ]
  },
  {
   "cell_type": "code",
   "execution_count": 278,
   "id": "tender-infection",
   "metadata": {},
   "outputs": [
    {
     "name": "stdout",
     "output_type": "stream",
     "text": [
      "0.00013637542724609375 s\n"
     ]
    }
   ],
   "source": [
    "start_time = time.time()\n",
    "data = json.loads(api.text)\n",
    "print(f\"{time.time()-start_time} s\")"
   ]
  },
  {
   "cell_type": "code",
   "execution_count": 279,
   "id": "assisted-constraint",
   "metadata": {
    "scrolled": true
   },
   "outputs": [
    {
     "data": {
      "text/plain": [
       "{'data': {'filters': None,\n",
       "  'table': {'headers': {'symbol': 'Symbol',\n",
       "    'name': 'Name',\n",
       "    'lastsale': 'Last Sale',\n",
       "    'netchange': 'Net Change',\n",
       "    'pctchange': '% Change',\n",
       "    'marketCap': 'Market Cap'},\n",
       "   'rows': [{'symbol': 'MSFT',\n",
       "     'name': 'Microsoft Corporation Common Stock',\n",
       "     'lastsale': '$247.95',\n",
       "     'netchange': '-1.73',\n",
       "     'pctchange': '-0.693%',\n",
       "     'marketCap': '1,867,453,909,920',\n",
       "     'url': '/market-activity/stocks/msft'},\n",
       "    {'symbol': 'AMZN',\n",
       "     'name': 'Amazon.com, Inc. Common Stock',\n",
       "     'lastsale': '$3222.09',\n",
       "     'netchange': '-0.98',\n",
       "     'pctchange': '-0.03%',\n",
       "     'marketCap': '1,624,976,466,528',\n",
       "     'url': '/market-activity/stocks/amzn'}]},\n",
       "  'totalrecords': 6149,\n",
       "  'asof': 'Last price as of Jun 01, 2021'},\n",
       " 'message': None,\n",
       " 'status': {'rCode': 200, 'bCodeMessage': None, 'developerMessage': None}}"
      ]
     },
     "execution_count": 279,
     "metadata": {},
     "output_type": "execute_result"
    }
   ],
   "source": [
    "data"
   ]
  },
  {
   "cell_type": "code",
   "execution_count": 280,
   "id": "union-statistics",
   "metadata": {},
   "outputs": [
    {
     "name": "stdout",
     "output_type": "stream",
     "text": [
      "7.796287536621094e-05 s\n"
     ]
    }
   ],
   "source": [
    "# 상장기업수 체크\n",
    "start_time = time.time()\n",
    "num_of_listed_comp = data['data']['totalrecords']\n",
    "print(f\"{time.time()-start_time} s\")"
   ]
  },
  {
   "cell_type": "code",
   "execution_count": 281,
   "id": "labeled-liechtenstein",
   "metadata": {},
   "outputs": [
    {
     "name": "stdout",
     "output_type": "stream",
     "text": [
      "9.965896606445312e-05 s\n"
     ]
    }
   ],
   "source": [
    "start_time = time.time()\n",
    "num_of_listed_comp = data.get('data').get('totalrecords') # which is faster?\n",
    "print(f\"{time.time()-start_time} s\")"
   ]
  },
  {
   "cell_type": "code",
   "execution_count": 282,
   "id": "expected-uganda",
   "metadata": {},
   "outputs": [
    {
     "name": "stdout",
     "output_type": "stream",
     "text": [
      "6149\n"
     ]
    }
   ],
   "source": [
    "print(num_of_listed_comp)"
   ]
  },
  {
   "cell_type": "code",
   "execution_count": 293,
   "id": "correct-wright",
   "metadata": {},
   "outputs": [],
   "source": [
    "# 주가 데이터\n",
    "d = data['data']['table']['rows']"
   ]
  },
  {
   "cell_type": "code",
   "execution_count": 312,
   "id": "unlike-manhattan",
   "metadata": {},
   "outputs": [
    {
     "name": "stdout",
     "output_type": "stream",
     "text": [
      "0.0010752677917480469 s\n"
     ]
    }
   ],
   "source": [
    "start_time = time.time()\n",
    "df = pd.DataFrame(d)\n",
    "print(f\"{time.time()-start_time} s\")"
   ]
  },
  {
   "cell_type": "code",
   "execution_count": 313,
   "id": "italian-behalf",
   "metadata": {
    "scrolled": true
   },
   "outputs": [
    {
     "data": {
      "text/html": [
       "<div>\n",
       "<style scoped>\n",
       "    .dataframe tbody tr th:only-of-type {\n",
       "        vertical-align: middle;\n",
       "    }\n",
       "\n",
       "    .dataframe tbody tr th {\n",
       "        vertical-align: top;\n",
       "    }\n",
       "\n",
       "    .dataframe thead th {\n",
       "        text-align: right;\n",
       "    }\n",
       "</style>\n",
       "<table border=\"1\" class=\"dataframe\">\n",
       "  <thead>\n",
       "    <tr style=\"text-align: right;\">\n",
       "      <th></th>\n",
       "      <th>symbol</th>\n",
       "      <th>name</th>\n",
       "      <th>lastsale</th>\n",
       "      <th>netchange</th>\n",
       "      <th>pctchange</th>\n",
       "      <th>marketCap</th>\n",
       "      <th>url</th>\n",
       "    </tr>\n",
       "  </thead>\n",
       "  <tbody>\n",
       "    <tr>\n",
       "      <th>0</th>\n",
       "      <td>MSFT</td>\n",
       "      <td>Microsoft Corporation Common Stock</td>\n",
       "      <td>$247.95</td>\n",
       "      <td>-1.73</td>\n",
       "      <td>-0.693%</td>\n",
       "      <td>1,867,453,909,920</td>\n",
       "      <td>/market-activity/stocks/msft</td>\n",
       "    </tr>\n",
       "    <tr>\n",
       "      <th>1</th>\n",
       "      <td>AMZN</td>\n",
       "      <td>Amazon.com, Inc. Common Stock</td>\n",
       "      <td>$3222.09</td>\n",
       "      <td>-0.98</td>\n",
       "      <td>-0.03%</td>\n",
       "      <td>1,624,976,466,528</td>\n",
       "      <td>/market-activity/stocks/amzn</td>\n",
       "    </tr>\n",
       "  </tbody>\n",
       "</table>\n",
       "</div>"
      ],
      "text/plain": [
       "  symbol                                name  lastsale netchange pctchange  \\\n",
       "0   MSFT  Microsoft Corporation Common Stock   $247.95     -1.73   -0.693%   \n",
       "1   AMZN       Amazon.com, Inc. Common Stock  $3222.09     -0.98    -0.03%   \n",
       "\n",
       "           marketCap                           url  \n",
       "0  1,867,453,909,920  /market-activity/stocks/msft  \n",
       "1  1,624,976,466,528  /market-activity/stocks/amzn  "
      ]
     },
     "execution_count": 313,
     "metadata": {},
     "output_type": "execute_result"
    }
   ],
   "source": [
    "df"
   ]
  },
  {
   "cell_type": "code",
   "execution_count": 314,
   "id": "behind-sapphire",
   "metadata": {},
   "outputs": [
    {
     "data": {
      "text/html": [
       "<div>\n",
       "<style scoped>\n",
       "    .dataframe tbody tr th:only-of-type {\n",
       "        vertical-align: middle;\n",
       "    }\n",
       "\n",
       "    .dataframe tbody tr th {\n",
       "        vertical-align: top;\n",
       "    }\n",
       "\n",
       "    .dataframe thead th {\n",
       "        text-align: right;\n",
       "    }\n",
       "</style>\n",
       "<table border=\"1\" class=\"dataframe\">\n",
       "  <thead>\n",
       "    <tr style=\"text-align: right;\">\n",
       "      <th></th>\n",
       "      <th>lastsale</th>\n",
       "      <th>netchange</th>\n",
       "      <th>pctchange</th>\n",
       "      <th>marketCap</th>\n",
       "    </tr>\n",
       "  </thead>\n",
       "  <tbody>\n",
       "    <tr>\n",
       "      <th>0</th>\n",
       "      <td>$247.95</td>\n",
       "      <td>-1.73</td>\n",
       "      <td>-0.693%</td>\n",
       "      <td>1,867,453,909,920</td>\n",
       "    </tr>\n",
       "    <tr>\n",
       "      <th>1</th>\n",
       "      <td>$3222.09</td>\n",
       "      <td>-0.98</td>\n",
       "      <td>-0.03%</td>\n",
       "      <td>1,624,976,466,528</td>\n",
       "    </tr>\n",
       "  </tbody>\n",
       "</table>\n",
       "</div>"
      ],
      "text/plain": [
       "   lastsale netchange pctchange          marketCap\n",
       "0   $247.95     -1.73   -0.693%  1,867,453,909,920\n",
       "1  $3222.09     -0.98    -0.03%  1,624,976,466,528"
      ]
     },
     "execution_count": 314,
     "metadata": {},
     "output_type": "execute_result"
    }
   ],
   "source": [
    "df.iloc[:,2:6]"
   ]
  },
  {
   "cell_type": "code",
   "execution_count": 315,
   "id": "suspected-accommodation",
   "metadata": {},
   "outputs": [],
   "source": [
    "def convert_to_float(data):\n",
    "    # 2~6열 까지 데이터\n",
    "    for i in range(2, 6):\n",
    "        # 정규표현식 : . 을 제외한 나머지 숫자외의 것들을 제거\n",
    "        data.iloc[:,i] = data.iloc[:,i].apply(lambda x: re.sub('[^\\d\\.]', '', x)).astype(float)"
   ]
  },
  {
   "cell_type": "code",
   "execution_count": 316,
   "id": "favorite-italy",
   "metadata": {},
   "outputs": [],
   "source": [
    "# 문자열로 되어있는 numeric 데이터를 실수로 변환\n",
    "convert_to_float(df)"
   ]
  },
  {
   "cell_type": "code",
   "execution_count": 317,
   "id": "urban-uncle",
   "metadata": {},
   "outputs": [
    {
     "data": {
      "text/html": [
       "<div>\n",
       "<style scoped>\n",
       "    .dataframe tbody tr th:only-of-type {\n",
       "        vertical-align: middle;\n",
       "    }\n",
       "\n",
       "    .dataframe tbody tr th {\n",
       "        vertical-align: top;\n",
       "    }\n",
       "\n",
       "    .dataframe thead th {\n",
       "        text-align: right;\n",
       "    }\n",
       "</style>\n",
       "<table border=\"1\" class=\"dataframe\">\n",
       "  <thead>\n",
       "    <tr style=\"text-align: right;\">\n",
       "      <th></th>\n",
       "      <th>symbol</th>\n",
       "      <th>name</th>\n",
       "      <th>lastsale</th>\n",
       "      <th>netchange</th>\n",
       "      <th>pctchange</th>\n",
       "      <th>marketCap</th>\n",
       "      <th>url</th>\n",
       "    </tr>\n",
       "  </thead>\n",
       "  <tbody>\n",
       "    <tr>\n",
       "      <th>0</th>\n",
       "      <td>MSFT</td>\n",
       "      <td>Microsoft Corporation Common Stock</td>\n",
       "      <td>247.95</td>\n",
       "      <td>1.73</td>\n",
       "      <td>0.69</td>\n",
       "      <td>1867453909920.00</td>\n",
       "      <td>/market-activity/stocks/msft</td>\n",
       "    </tr>\n",
       "    <tr>\n",
       "      <th>1</th>\n",
       "      <td>AMZN</td>\n",
       "      <td>Amazon.com, Inc. Common Stock</td>\n",
       "      <td>3222.09</td>\n",
       "      <td>0.98</td>\n",
       "      <td>0.03</td>\n",
       "      <td>1624976466528.00</td>\n",
       "      <td>/market-activity/stocks/amzn</td>\n",
       "    </tr>\n",
       "  </tbody>\n",
       "</table>\n",
       "</div>"
      ],
      "text/plain": [
       "  symbol                                name  lastsale  netchange  pctchange  \\\n",
       "0   MSFT  Microsoft Corporation Common Stock    247.95       1.73       0.69   \n",
       "1   AMZN       Amazon.com, Inc. Common Stock   3222.09       0.98       0.03   \n",
       "\n",
       "         marketCap                           url  \n",
       "0 1867453909920.00  /market-activity/stocks/msft  \n",
       "1 1624976466528.00  /market-activity/stocks/amzn  "
      ]
     },
     "execution_count": 317,
     "metadata": {},
     "output_type": "execute_result"
    }
   ],
   "source": [
    "df"
   ]
  }
 ],
 "metadata": {
  "kernelspec": {
   "display_name": "Python 3",
   "language": "python",
   "name": "python3"
  },
  "language_info": {
   "codemirror_mode": {
    "name": "ipython",
    "version": 3
   },
   "file_extension": ".py",
   "mimetype": "text/x-python",
   "name": "python",
   "nbconvert_exporter": "python",
   "pygments_lexer": "ipython3",
   "version": "3.8.5"
  }
 },
 "nbformat": 4,
 "nbformat_minor": 5
}
