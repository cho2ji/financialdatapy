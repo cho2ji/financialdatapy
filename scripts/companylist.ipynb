{
 "cells": [
  {
   "cell_type": "code",
   "execution_count": 2,
   "id": "failing-eleven",
   "metadata": {},
   "outputs": [],
   "source": [
    "import json, time, requests, pandas as pd, re"
   ]
  },
  {
   "cell_type": "code",
   "execution_count": 85,
   "id": "fresh-croatia",
   "metadata": {},
   "outputs": [
    {
     "name": "stdout",
     "output_type": "stream",
     "text": [
      "0.041252851486206055 s\n"
     ]
    }
   ],
   "source": [
    "start_time = time.time()\n",
    "headers = {'User-Agent' : 'Mozilla/5.0 (Macintosh; Intel Mac OS X 10_15_7) AppleWebKit/537.36 (KHTML, like Gecko) Chrome/90.0.4430.212 Safari/537.36'}\n",
    "api_url = 'https://api.nasdaq.com/api/screener/stocks?tableonly=true&limit=1&offset=1&region=north_america'\n",
    "api = requests.get(api_url, headers=headers)\n",
    "print(f\"{time.time()-start_time} s\")"
   ]
  },
  {
   "cell_type": "code",
   "execution_count": 8,
   "id": "tender-infection",
   "metadata": {},
   "outputs": [],
   "source": [
    "start_time = time.time()\n",
    "data = json.loads(api.text)\n",
    "print(f\"{time.time()-start_time} s\")"
   ]
  },
  {
   "cell_type": "code",
   "execution_count": 9,
   "id": "assisted-constraint",
   "metadata": {
    "scrolled": true
   },
   "outputs": [
    {
     "data": {
      "text/plain": [
       "{'data': {'filters': None,\n",
       "  'table': {'headers': {'symbol': 'Symbol',\n",
       "    'name': 'Name',\n",
       "    'lastsale': 'Last Sale',\n",
       "    'netchange': 'Net Change',\n",
       "    'pctchange': '% Change',\n",
       "    'marketCap': 'Market Cap'},\n",
       "   'rows': [{'symbol': 'MSFT',\n",
       "     'name': 'Microsoft Corporation Common Stock',\n",
       "     'lastsale': '$249.68',\n",
       "     'netchange': '0.37',\n",
       "     'pctchange': '0.148%',\n",
       "     'marketCap': '1,880,483,533,894',\n",
       "     'url': '/market-activity/stocks/msft'}]},\n",
       "  'totalrecords': 6162,\n",
       "  'asof': 'Last price as of May 28, 2021'},\n",
       " 'message': None,\n",
       " 'status': {'rCode': 200, 'bCodeMessage': None, 'developerMessage': None}}"
      ]
     },
     "execution_count": 9,
     "metadata": {},
     "output_type": "execute_result"
    }
   ],
   "source": [
    "data"
   ]
  },
  {
   "cell_type": "code",
   "execution_count": 67,
   "id": "considered-complement",
   "metadata": {},
   "outputs": [],
   "source": [
    "d = data['data'].items()"
   ]
  },
  {
   "cell_type": "code",
   "execution_count": 79,
   "id": "southwest-candidate",
   "metadata": {},
   "outputs": [],
   "source": [
    "start_time = time.time()\n",
    "key_to_search = 'table'\n",
    "dc = dict()\n",
    "\n",
    "for key, value in d:\n",
    "    if(key == key_to_search):\n",
    "        dc = value['rows'][0]\n",
    "        \n",
    "print(f\"{time.time()-start_time} s\")"
   ]
  },
  {
   "cell_type": "code",
   "execution_count": 80,
   "id": "historical-virgin",
   "metadata": {},
   "outputs": [
    {
     "data": {
      "text/plain": [
       "{'symbol': 'MSFT',\n",
       " 'name': 'Microsoft Corporation Common Stock',\n",
       " 'lastsale': '$249.68',\n",
       " 'netchange': '0.37',\n",
       " 'pctchange': '0.148%',\n",
       " 'marketCap': '1,880,483,533,894',\n",
       " 'url': '/market-activity/stocks/msft'}"
      ]
     },
     "execution_count": 80,
     "metadata": {},
     "output_type": "execute_result"
    }
   ],
   "source": [
    "dc"
   ]
  },
  {
   "cell_type": "code",
   "execution_count": 86,
   "id": "union-statistics",
   "metadata": {},
   "outputs": [
    {
     "name": "stdout",
     "output_type": "stream",
     "text": [
      "9.107589721679688e-05 s\n"
     ]
    }
   ],
   "source": [
    "start_time = time.time()\n",
    "num_of_listed_comp = data['data']['totalrecords']\n",
    "print(f\"{time.time()-start_time} s\")"
   ]
  },
  {
   "cell_type": "code",
   "execution_count": 87,
   "id": "labeled-liechtenstein",
   "metadata": {},
   "outputs": [
    {
     "name": "stdout",
     "output_type": "stream",
     "text": [
      "9.298324584960938e-05 s\n"
     ]
    }
   ],
   "source": [
    "start_time = time.time()\n",
    "num_of_listed_comp = data.get('data').get('totalrecords') # which is faster?\n",
    "print(f\"{time.time()-start_time} s\")"
   ]
  },
  {
   "cell_type": "code",
   "execution_count": 33,
   "id": "expected-uganda",
   "metadata": {},
   "outputs": [
    {
     "name": "stdout",
     "output_type": "stream",
     "text": [
      "6162\n"
     ]
    }
   ],
   "source": [
    "print(num_of_listed_comp)"
   ]
  },
  {
   "cell_type": "code",
   "execution_count": 35,
   "id": "detailed-vulnerability",
   "metadata": {},
   "outputs": [
    {
     "name": "stdout",
     "output_type": "stream",
     "text": [
      "<class 'dict'>\n",
      "{'symbol': 'MSFT', 'name': 'Microsoft Corporation Common Stock', 'lastsale': '$249.68', 'netchange': '0.37', 'pctchange': '0.148%', 'marketCap': '1,880,483,533,894', 'url': '/market-activity/stocks/msft'}\n"
     ]
    }
   ],
   "source": [
    "# 주가 데이터\n",
    "stock_data = data.get('data').get('table').get('rows')[0]\n",
    "print(type(stock_data))\n",
    "print(stock_data)"
   ]
  },
  {
   "cell_type": "code",
   "execution_count": 161,
   "id": "regulation-yellow",
   "metadata": {},
   "outputs": [],
   "source": [
    "df = pd.DataFrame(stock_data, index=[0])"
   ]
  },
  {
   "cell_type": "code",
   "execution_count": 162,
   "id": "conceptual-salmon",
   "metadata": {
    "scrolled": false
   },
   "outputs": [
    {
     "data": {
      "text/html": [
       "<div>\n",
       "<style scoped>\n",
       "    .dataframe tbody tr th:only-of-type {\n",
       "        vertical-align: middle;\n",
       "    }\n",
       "\n",
       "    .dataframe tbody tr th {\n",
       "        vertical-align: top;\n",
       "    }\n",
       "\n",
       "    .dataframe thead th {\n",
       "        text-align: right;\n",
       "    }\n",
       "</style>\n",
       "<table border=\"1\" class=\"dataframe\">\n",
       "  <thead>\n",
       "    <tr style=\"text-align: right;\">\n",
       "      <th></th>\n",
       "      <th>symbol</th>\n",
       "      <th>name</th>\n",
       "      <th>lastsale</th>\n",
       "      <th>netchange</th>\n",
       "      <th>pctchange</th>\n",
       "      <th>marketCap</th>\n",
       "      <th>url</th>\n",
       "    </tr>\n",
       "  </thead>\n",
       "  <tbody>\n",
       "    <tr>\n",
       "      <th>0</th>\n",
       "      <td>MSFT</td>\n",
       "      <td>Microsoft Corporation Common Stock</td>\n",
       "      <td>$249.68</td>\n",
       "      <td>0.37</td>\n",
       "      <td>0.148%</td>\n",
       "      <td>1,880,483,533,894</td>\n",
       "      <td>/market-activity/stocks/msft</td>\n",
       "    </tr>\n",
       "  </tbody>\n",
       "</table>\n",
       "</div>"
      ],
      "text/plain": [
       "  symbol                                name lastsale netchange pctchange  \\\n",
       "0   MSFT  Microsoft Corporation Common Stock  $249.68      0.37    0.148%   \n",
       "\n",
       "           marketCap                           url  \n",
       "0  1,880,483,533,894  /market-activity/stocks/msft  "
      ]
     },
     "execution_count": 162,
     "metadata": {},
     "output_type": "execute_result"
    }
   ],
   "source": [
    "df"
   ]
  },
  {
   "cell_type": "code",
   "execution_count": 171,
   "id": "central-commitment",
   "metadata": {},
   "outputs": [],
   "source": [
    "# 형변환\n",
    "# 1\n",
    "# lastsale 데이터에 $ 표시 지우기\n",
    "df['lastsale'] = df['lastsale'].apply(lambda x : re.sub('^\\$', '', x))\n",
    "df['lastsale'] = df['lastsale'].astype(float)"
   ]
  },
  {
   "cell_type": "code",
   "execution_count": 164,
   "id": "previous-ground",
   "metadata": {},
   "outputs": [
    {
     "data": {
      "text/plain": [
       "'$249.68'"
      ]
     },
     "execution_count": 164,
     "metadata": {},
     "output_type": "execute_result"
    }
   ],
   "source": [
    "# 2\n",
    "df['netchange'] = df['netchange'].astype(float)"
   ]
  },
  {
   "cell_type": "code",
   "execution_count": 173,
   "id": "narrow-institute",
   "metadata": {},
   "outputs": [],
   "source": [
    "# 3\n",
    "# pctchange 데이터에 % 표시 지우기\n",
    "df['pctchange'] = df['pctchange'].apply(lambda x : re.sub('%', '', x))\n",
    "df['pctchange'] = df['pctchange'].astype(float)"
   ]
  },
  {
   "cell_type": "code",
   "execution_count": 175,
   "id": "virgin-bosnia",
   "metadata": {},
   "outputs": [
    {
     "data": {
      "text/plain": [
       "0    1880483533894\n",
       "Name: marketCap, dtype: int64"
      ]
     },
     "execution_count": 175,
     "metadata": {},
     "output_type": "execute_result"
    }
   ],
   "source": [
    "# 4\n",
    "# marketCap에 , 표시 지우기\n",
    "df['marketCap'] = df['marketCap'].apply(lambda x : re.sub(',', '', x))\n",
    "df['marketCap'] = df['marketCap'].astype(int)"
   ]
  }
 ],
 "metadata": {
  "kernelspec": {
   "display_name": "Python 3",
   "language": "python",
   "name": "python3"
  },
  "language_info": {
   "codemirror_mode": {
    "name": "ipython",
    "version": 3
   },
   "file_extension": ".py",
   "mimetype": "text/x-python",
   "name": "python",
   "nbconvert_exporter": "python",
   "pygments_lexer": "ipython3",
   "version": "3.8.5"
  }
 },
 "nbformat": 4,
 "nbformat_minor": 5
}
