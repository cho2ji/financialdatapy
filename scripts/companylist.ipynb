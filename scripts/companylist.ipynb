{
 "cells": [
  {
   "cell_type": "code",
   "execution_count": 1,
   "id": "failing-eleven",
   "metadata": {},
   "outputs": [],
   "source": [
    "import json\n",
    "import requests\n",
    "import pandas as pd\n",
    "import re\n",
    "import string"
   ]
  },
  {
   "cell_type": "code",
   "execution_count": 66,
   "id": "fresh-croatia",
   "metadata": {},
   "outputs": [],
   "source": [
    "# 데이터 불러오기\n",
    "headers = {'User-Agent' : 'Mozilla/5.0 (Macintosh; Intel Mac OS X 10_15_7) AppleWebKit/537.36 (KHTML, like Gecko) Chrome/90.0.4430.212 Safari/537.36'}\n",
    "limit = 0\n",
    "api_url = f'https://api.nasdaq.com/api/screener/stocks?tableonly=true&limit={limit}'\n",
    "try:\n",
    "    res = requests.get(api_url, headers=headers)\n",
    "except Exception as e:\n",
    "    print(e)"
   ]
  },
  {
   "cell_type": "code",
   "execution_count": 67,
   "id": "tender-infection",
   "metadata": {
    "scrolled": true
   },
   "outputs": [],
   "source": [
    "# deserialization\n",
    "data = json.loads(res.text)"
   ]
  },
  {
   "cell_type": "code",
   "execution_count": 68,
   "id": "labeled-liechtenstein",
   "metadata": {},
   "outputs": [],
   "source": [
    "# 상장 종목 수 체크\n",
    "num_of_listed_comp = data.get('data').get('totalrecords')"
   ]
  },
  {
   "cell_type": "code",
   "execution_count": 69,
   "id": "expected-uganda",
   "metadata": {
    "scrolled": true
   },
   "outputs": [
    {
     "name": "stdout",
     "output_type": "stream",
     "text": [
      "number of listed stocks : 7863\n"
     ]
    }
   ],
   "source": [
    "print(f\"number of listed stocks : {num_of_listed_comp}\")"
   ]
  },
  {
   "cell_type": "code",
   "execution_count": 70,
   "id": "correct-wright",
   "metadata": {},
   "outputs": [],
   "source": [
    "# 상장 종목 리스트\n",
    "stock_info = data['data']['table']['rows']\n",
    "stock_info = pd.DataFrame(stock_info)\n",
    "# 상장 종목 symbol이랑 name만 남김\n",
    "stock_list = stock_info.iloc[:,:2]"
   ]
  },
  {
   "cell_type": "code",
   "execution_count": 71,
   "id": "plastic-michael",
   "metadata": {},
   "outputs": [],
   "source": [
    "# 정규표현식 설명\n",
    "# \\,| : comma(,) 매칭\n",
    "# \\s\\(([\\w].*)\\)*| : 괄호로 쌓여있는 단어 매칭\n",
    "# (\\snew)?(\\s[\\w]*)?(\\sstock|\\sshare).*| : 'new 단어 stock', 'new 단어 share', '단어 stock', '단어 share' 뒤 모든 문자 매칭\n",
    "# ((?<=inc\\.)|(?<=inc))\\s(\\w|\\W).*|((?<=ltd\\.)|(?<=ltd))\\s(\\w|\\W).*| : inc나 ltd 뒤 모든 문자 매칭\n",
    "# american\\sd.+(share+s?|receipt).* : 'american d로시작하는단어 shares 또는 receipt' 문자 매칭\n",
    "# flag : 대소문자 무시\n",
    "\n",
    "pattern = r\"\\,|\\s\\(([\\w].*)\\)*|(\\snew)?(\\s[\\w]*)?(\\sstock|\\sshare).*|((?<=inc\\.)|(?<=inc))\\s(\\w|\\W).*|((?<=ltd\\.)|(?<=ltd))\\s(\\w|\\W).*|american\\sd.+(share+s?|receipt).*\"\n",
    "regex = re.compile(pattern, flags=re.IGNORECASE)"
   ]
  },
  {
   "cell_type": "code",
   "execution_count": 72,
   "id": "running-colombia",
   "metadata": {},
   "outputs": [],
   "source": [
    "for index, row in stock_list.iterrows():\n",
    "    # %가 포함 종목 제거\n",
    "    if re.search(r'\\%',row['name']):\n",
    "        stock_list = stock_list.drop(index=index)\n",
    "        continue\n",
    "\n",
    "    # 필요 없는 문자 제거\n",
    "    row['name'] = regex.sub('', row['name'])"
   ]
  },
  {
   "cell_type": "code",
   "execution_count": 80,
   "id": "missing-frame",
   "metadata": {},
   "outputs": [
    {
     "data": {
      "text/html": [
       "<div>\n",
       "<style scoped>\n",
       "    .dataframe tbody tr th:only-of-type {\n",
       "        vertical-align: middle;\n",
       "    }\n",
       "\n",
       "    .dataframe tbody tr th {\n",
       "        vertical-align: top;\n",
       "    }\n",
       "\n",
       "    .dataframe thead th {\n",
       "        text-align: right;\n",
       "    }\n",
       "</style>\n",
       "<table border=\"1\" class=\"dataframe\">\n",
       "  <thead>\n",
       "    <tr style=\"text-align: right;\">\n",
       "      <th></th>\n",
       "      <th>symbol</th>\n",
       "      <th>name</th>\n",
       "    </tr>\n",
       "  </thead>\n",
       "  <tbody>\n",
       "    <tr>\n",
       "      <th>0</th>\n",
       "      <td>AAPL</td>\n",
       "      <td>Apple Inc.</td>\n",
       "    </tr>\n",
       "    <tr>\n",
       "      <th>1</th>\n",
       "      <td>MSFT</td>\n",
       "      <td>Microsoft Corporation</td>\n",
       "    </tr>\n",
       "    <tr>\n",
       "      <th>2</th>\n",
       "      <td>AMZN</td>\n",
       "      <td>Amazon.com Inc.</td>\n",
       "    </tr>\n",
       "    <tr>\n",
       "      <th>3</th>\n",
       "      <td>GOOG</td>\n",
       "      <td>Alphabet Inc.</td>\n",
       "    </tr>\n",
       "    <tr>\n",
       "      <th>4</th>\n",
       "      <td>GOOGL</td>\n",
       "      <td>Alphabet Inc.</td>\n",
       "    </tr>\n",
       "    <tr>\n",
       "      <th>...</th>\n",
       "      <td>...</td>\n",
       "      <td>...</td>\n",
       "    </tr>\n",
       "    <tr>\n",
       "      <th>7858</th>\n",
       "      <td>ZNTEU</td>\n",
       "      <td>Zanite Acquisition Corp. Unit</td>\n",
       "    </tr>\n",
       "    <tr>\n",
       "      <th>7859</th>\n",
       "      <td>ZNTEW</td>\n",
       "      <td>Zanite Acquisition Corp. Warrant</td>\n",
       "    </tr>\n",
       "    <tr>\n",
       "      <th>7860</th>\n",
       "      <td>ZTAQU</td>\n",
       "      <td>Zimmer Energy Transition Acquisition Corp. Units</td>\n",
       "    </tr>\n",
       "    <tr>\n",
       "      <th>7861</th>\n",
       "      <td>ZWRKU</td>\n",
       "      <td>Z-Work Acquisition Corp. Units</td>\n",
       "    </tr>\n",
       "    <tr>\n",
       "      <th>7862</th>\n",
       "      <td>ZWRKW</td>\n",
       "      <td>Z-Work Acquisition Corp. Warrant</td>\n",
       "    </tr>\n",
       "  </tbody>\n",
       "</table>\n",
       "<p>7288 rows × 2 columns</p>\n",
       "</div>"
      ],
      "text/plain": [
       "     symbol                                              name\n",
       "0      AAPL                                        Apple Inc.\n",
       "1      MSFT                             Microsoft Corporation\n",
       "2      AMZN                                   Amazon.com Inc.\n",
       "3      GOOG                                     Alphabet Inc.\n",
       "4     GOOGL                                     Alphabet Inc.\n",
       "...     ...                                               ...\n",
       "7858  ZNTEU                     Zanite Acquisition Corp. Unit\n",
       "7859  ZNTEW                  Zanite Acquisition Corp. Warrant\n",
       "7860  ZTAQU  Zimmer Energy Transition Acquisition Corp. Units\n",
       "7861  ZWRKU                    Z-Work Acquisition Corp. Units\n",
       "7862  ZWRKW                  Z-Work Acquisition Corp. Warrant\n",
       "\n",
       "[7288 rows x 2 columns]"
      ]
     },
     "execution_count": 80,
     "metadata": {},
     "output_type": "execute_result"
    }
   ],
   "source": [
    "stock_list"
   ]
  },
  {
   "cell_type": "code",
   "execution_count": 82,
   "id": "pursuant-insertion",
   "metadata": {},
   "outputs": [],
   "source": [
    "o = pd.read_csv(\"comp_list.csv\")\n",
    "o = o.iloc[:,1:3]"
   ]
  },
  {
   "cell_type": "code",
   "execution_count": 75,
   "id": "published-ministry",
   "metadata": {},
   "outputs": [
    {
     "data": {
      "text/html": [
       "<div>\n",
       "<style scoped>\n",
       "    .dataframe tbody tr th:only-of-type {\n",
       "        vertical-align: middle;\n",
       "    }\n",
       "\n",
       "    .dataframe tbody tr th {\n",
       "        vertical-align: top;\n",
       "    }\n",
       "\n",
       "    .dataframe thead th {\n",
       "        text-align: right;\n",
       "    }\n",
       "</style>\n",
       "<table border=\"1\" class=\"dataframe\">\n",
       "  <thead>\n",
       "    <tr style=\"text-align: right;\">\n",
       "      <th></th>\n",
       "      <th>symbol</th>\n",
       "      <th>name</th>\n",
       "    </tr>\n",
       "  </thead>\n",
       "  <tbody>\n",
       "    <tr>\n",
       "      <th>0</th>\n",
       "      <td>AAPL</td>\n",
       "      <td>Apple Inc.</td>\n",
       "    </tr>\n",
       "    <tr>\n",
       "      <th>1</th>\n",
       "      <td>MSFT</td>\n",
       "      <td>Microsoft Corporation</td>\n",
       "    </tr>\n",
       "    <tr>\n",
       "      <th>2</th>\n",
       "      <td>GOOG</td>\n",
       "      <td>Alphabet Inc.</td>\n",
       "    </tr>\n",
       "    <tr>\n",
       "      <th>3</th>\n",
       "      <td>AMZN</td>\n",
       "      <td>Amazon.com Inc.</td>\n",
       "    </tr>\n",
       "    <tr>\n",
       "      <th>4</th>\n",
       "      <td>GOOGL</td>\n",
       "      <td>Alphabet Inc.</td>\n",
       "    </tr>\n",
       "  </tbody>\n",
       "</table>\n",
       "</div>"
      ],
      "text/plain": [
       "  symbol                   name\n",
       "0   AAPL             Apple Inc.\n",
       "1   MSFT  Microsoft Corporation\n",
       "2   GOOG          Alphabet Inc.\n",
       "3   AMZN        Amazon.com Inc.\n",
       "4  GOOGL          Alphabet Inc."
      ]
     },
     "execution_count": 75,
     "metadata": {},
     "output_type": "execute_result"
    }
   ],
   "source": [
    "o.head()"
   ]
  },
  {
   "cell_type": "code",
   "execution_count": 76,
   "id": "deadly-celebrity",
   "metadata": {
    "scrolled": true
   },
   "outputs": [],
   "source": [
    "# 상장 종목 업데이트\n",
    "old_stock_list = o # db에서 불러온 종목 리스트. (지금은 임의로 할당. 나중에 수정 필요)\n",
    "new_stock_list = stock_list\n",
    "try:\n",
    "    merged_stock_list = pd.merge(old_stock_list, new_stock_list, how='outer')\n",
    "except Exception as e:\n",
    "    print(e)"
   ]
  },
  {
   "cell_type": "code",
   "execution_count": 81,
   "id": "seasonal-briefs",
   "metadata": {},
   "outputs": [
    {
     "data": {
      "text/html": [
       "<div>\n",
       "<style scoped>\n",
       "    .dataframe tbody tr th:only-of-type {\n",
       "        vertical-align: middle;\n",
       "    }\n",
       "\n",
       "    .dataframe tbody tr th {\n",
       "        vertical-align: top;\n",
       "    }\n",
       "\n",
       "    .dataframe thead th {\n",
       "        text-align: right;\n",
       "    }\n",
       "</style>\n",
       "<table border=\"1\" class=\"dataframe\">\n",
       "  <thead>\n",
       "    <tr style=\"text-align: right;\">\n",
       "      <th></th>\n",
       "      <th>symbol</th>\n",
       "      <th>name</th>\n",
       "    </tr>\n",
       "  </thead>\n",
       "  <tbody>\n",
       "    <tr>\n",
       "      <th>794</th>\n",
       "      <td>AMH</td>\n",
       "      <td>NaN</td>\n",
       "    </tr>\n",
       "    <tr>\n",
       "      <th>7549</th>\n",
       "      <td>AMH</td>\n",
       "      <td>American Homes 4 Rent</td>\n",
       "    </tr>\n",
       "  </tbody>\n",
       "</table>\n",
       "</div>"
      ],
      "text/plain": [
       "     symbol                   name\n",
       "794     AMH                    NaN\n",
       "7549    AMH  American Homes 4 Rent"
      ]
     },
     "execution_count": 81,
     "metadata": {},
     "output_type": "execute_result"
    }
   ],
   "source": [
    "merged_stock_list.loc[merged_stock_list['symbol'] == 'AMH']"
   ]
  },
  {
   "cell_type": "code",
   "execution_count": 78,
   "id": "broad-nutrition",
   "metadata": {},
   "outputs": [
    {
     "data": {
      "text/html": [
       "<div>\n",
       "<style scoped>\n",
       "    .dataframe tbody tr th:only-of-type {\n",
       "        vertical-align: middle;\n",
       "    }\n",
       "\n",
       "    .dataframe tbody tr th {\n",
       "        vertical-align: top;\n",
       "    }\n",
       "\n",
       "    .dataframe thead th {\n",
       "        text-align: right;\n",
       "    }\n",
       "</style>\n",
       "<table border=\"1\" class=\"dataframe\">\n",
       "  <thead>\n",
       "    <tr style=\"text-align: right;\">\n",
       "      <th></th>\n",
       "      <th>symbol</th>\n",
       "      <th>name</th>\n",
       "    </tr>\n",
       "  </thead>\n",
       "  <tbody>\n",
       "    <tr>\n",
       "      <th>7543</th>\n",
       "      <td>TTE</td>\n",
       "      <td>TotalEnergies SE</td>\n",
       "    </tr>\n",
       "    <tr>\n",
       "      <th>7544</th>\n",
       "      <td>AMX</td>\n",
       "      <td>America Movil S.A.B. de C.V.</td>\n",
       "    </tr>\n",
       "    <tr>\n",
       "      <th>7545</th>\n",
       "      <td>YMM</td>\n",
       "      <td>Full Truck Alliance Co. Ltd.</td>\n",
       "    </tr>\n",
       "    <tr>\n",
       "      <th>7546</th>\n",
       "      <td>GRUB</td>\n",
       "      <td>Just Eat Takeaway.com N.V.</td>\n",
       "    </tr>\n",
       "    <tr>\n",
       "      <th>7547</th>\n",
       "      <td>BZ</td>\n",
       "      <td>KANZHUN LIMITED</td>\n",
       "    </tr>\n",
       "    <tr>\n",
       "      <th>...</th>\n",
       "      <td>...</td>\n",
       "      <td>...</td>\n",
       "    </tr>\n",
       "    <tr>\n",
       "      <th>11110</th>\n",
       "      <td>ZGYHU</td>\n",
       "      <td>Yunhong International Unit</td>\n",
       "    </tr>\n",
       "    <tr>\n",
       "      <th>11111</th>\n",
       "      <td>ZIONO</td>\n",
       "      <td>Zions Bancorporation, N.A. Dep Shs Repstg 1/40...</td>\n",
       "    </tr>\n",
       "    <tr>\n",
       "      <th>11112</th>\n",
       "      <td>ZIONP</td>\n",
       "      <td>Zions Bancorporation, N.A. Depositary Shares (...</td>\n",
       "    </tr>\n",
       "    <tr>\n",
       "      <th>11113</th>\n",
       "      <td>ZIVOW</td>\n",
       "      <td>Zivo Bioscience, Inc. Warrants</td>\n",
       "    </tr>\n",
       "    <tr>\n",
       "      <th>11114</th>\n",
       "      <td>ZTAQU</td>\n",
       "      <td>Zimmer Energy Transition Acquisition Corp. Units</td>\n",
       "    </tr>\n",
       "  </tbody>\n",
       "</table>\n",
       "<p>3572 rows × 2 columns</p>\n",
       "</div>"
      ],
      "text/plain": [
       "      symbol                                               name\n",
       "7543     TTE                                   TotalEnergies SE\n",
       "7544     AMX                      America Movil S.A.B. de C.V. \n",
       "7545     YMM                       Full Truck Alliance Co. Ltd.\n",
       "7546    GRUB                        Just Eat Takeaway.com N.V. \n",
       "7547      BZ                                   KANZHUN LIMITED \n",
       "...      ...                                                ...\n",
       "11110  ZGYHU                         Yunhong International Unit\n",
       "11111  ZIONO  Zions Bancorporation, N.A. Dep Shs Repstg 1/40...\n",
       "11112  ZIONP  Zions Bancorporation, N.A. Depositary Shares (...\n",
       "11113  ZIVOW                     Zivo Bioscience, Inc. Warrants\n",
       "11114  ZTAQU   Zimmer Energy Transition Acquisition Corp. Units\n",
       "\n",
       "[3572 rows x 2 columns]"
      ]
     },
     "execution_count": 78,
     "metadata": {},
     "output_type": "execute_result"
    }
   ],
   "source": [
    "# 추가된 종목\n",
    "updated_stock_list = pd.concat([old_stock_list, merged_stock_list]).drop_duplicates(keep=False)\n",
    "updated_stock_list"
   ]
  },
  {
   "cell_type": "code",
   "execution_count": 79,
   "id": "humanitarian-glance",
   "metadata": {
    "scrolled": false
   },
   "outputs": [
    {
     "data": {
      "text/html": [
       "<div>\n",
       "<style scoped>\n",
       "    .dataframe tbody tr th:only-of-type {\n",
       "        vertical-align: middle;\n",
       "    }\n",
       "\n",
       "    .dataframe tbody tr th {\n",
       "        vertical-align: top;\n",
       "    }\n",
       "\n",
       "    .dataframe thead th {\n",
       "        text-align: right;\n",
       "    }\n",
       "</style>\n",
       "<table border=\"1\" class=\"dataframe\">\n",
       "  <thead>\n",
       "    <tr style=\"text-align: right;\">\n",
       "      <th></th>\n",
       "      <th>symbol</th>\n",
       "      <th>name</th>\n",
       "    </tr>\n",
       "  </thead>\n",
       "  <tbody>\n",
       "    <tr>\n",
       "      <th>92</th>\n",
       "      <td>TOT</td>\n",
       "      <td>Total SE</td>\n",
       "    </tr>\n",
       "    <tr>\n",
       "      <th>240</th>\n",
       "      <td>AMX</td>\n",
       "      <td>America Movil S.A.B. de C.V. American Deposito...</td>\n",
       "    </tr>\n",
       "    <tr>\n",
       "      <th>794</th>\n",
       "      <td>AMH</td>\n",
       "      <td>NaN</td>\n",
       "    </tr>\n",
       "    <tr>\n",
       "      <th>1081</th>\n",
       "      <td>TCF</td>\n",
       "      <td>TCF Financial Corporation</td>\n",
       "    </tr>\n",
       "    <tr>\n",
       "      <th>1219</th>\n",
       "      <td>CLGX</td>\n",
       "      <td>CoreLogic Inc.</td>\n",
       "    </tr>\n",
       "    <tr>\n",
       "      <th>...</th>\n",
       "      <td>...</td>\n",
       "      <td>...</td>\n",
       "    </tr>\n",
       "    <tr>\n",
       "      <th>7532</th>\n",
       "      <td>YSACW</td>\n",
       "      <td>Yellowstone Acquisition Company Warrants to pu...</td>\n",
       "    </tr>\n",
       "    <tr>\n",
       "      <th>7535</th>\n",
       "      <td>ZIONN</td>\n",
       "      <td>Zions Bancorporation N.A. Dep Shs Repstg 1/40t...</td>\n",
       "    </tr>\n",
       "    <tr>\n",
       "      <th>7536</th>\n",
       "      <td>ZIONO</td>\n",
       "      <td>Zions Bancorporation N.A. Dep Shs Repstg 1/40t...</td>\n",
       "    </tr>\n",
       "    <tr>\n",
       "      <th>7537</th>\n",
       "      <td>ZIONP</td>\n",
       "      <td>Zions Bancorporation N.A.</td>\n",
       "    </tr>\n",
       "    <tr>\n",
       "      <th>7538</th>\n",
       "      <td>ZIVOW</td>\n",
       "      <td>Zivo Bioscience Inc.</td>\n",
       "    </tr>\n",
       "  </tbody>\n",
       "</table>\n",
       "<p>3827 rows × 2 columns</p>\n",
       "</div>"
      ],
      "text/plain": [
       "     symbol                                               name\n",
       "92      TOT                                           Total SE\n",
       "240     AMX  America Movil S.A.B. de C.V. American Deposito...\n",
       "794     AMH                                                NaN\n",
       "1081    TCF                          TCF Financial Corporation\n",
       "1219   CLGX                                     CoreLogic Inc.\n",
       "...     ...                                                ...\n",
       "7532  YSACW  Yellowstone Acquisition Company Warrants to pu...\n",
       "7535  ZIONN  Zions Bancorporation N.A. Dep Shs Repstg 1/40t...\n",
       "7536  ZIONO  Zions Bancorporation N.A. Dep Shs Repstg 1/40t...\n",
       "7537  ZIONP                          Zions Bancorporation N.A.\n",
       "7538  ZIVOW                               Zivo Bioscience Inc.\n",
       "\n",
       "[3827 rows x 2 columns]"
      ]
     },
     "execution_count": 79,
     "metadata": {},
     "output_type": "execute_result"
    }
   ],
   "source": [
    "# 없어진 종목\n",
    "removed_stock_list = pd.concat([new_stock_list, merged_stock_list]).drop_duplicates(keep=False)\n",
    "removed_stock_list"
   ]
  },
  {
   "cell_type": "code",
   "execution_count": null,
   "id": "institutional-chester",
   "metadata": {},
   "outputs": [],
   "source": []
  }
 ],
 "metadata": {
  "kernelspec": {
   "display_name": "Python 3",
   "language": "python",
   "name": "python3"
  },
  "language_info": {
   "codemirror_mode": {
    "name": "ipython",
    "version": 3
   },
   "file_extension": ".py",
   "mimetype": "text/x-python",
   "name": "python",
   "nbconvert_exporter": "python",
   "pygments_lexer": "ipython3",
   "version": "3.8.5"
  }
 },
 "nbformat": 4,
 "nbformat_minor": 5
}
