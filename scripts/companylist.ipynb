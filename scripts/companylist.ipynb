{
 "cells": [
  {
   "cell_type": "code",
   "execution_count": 1,
   "id": "failing-eleven",
   "metadata": {},
   "outputs": [],
   "source": [
    "import json\n",
    "import requests\n",
    "import pandas as pd\n",
    "import re\n",
    "import string"
   ]
  },
  {
   "cell_type": "code",
   "execution_count": 4,
   "id": "fresh-croatia",
   "metadata": {},
   "outputs": [],
   "source": [
    "# API로 데이터 불러오기\n",
    "headers = {'User-Agent' : 'Mozilla/5.0 (Macintosh; Intel Mac OS X 10_15_7) AppleWebKit/537.36 (KHTML, like Gecko) Chrome/90.0.4430.212 Safari/537.36'}\n",
    "limit = 0\n",
    "api_url = f'https://api.nasdaq.com/api/screener/stocks?tableonly=true&limit={limit}'\n",
    "try:\n",
    "    res = requests.get(api_url, headers=headers)\n",
    "except Exception as e:\n",
    "    print(e)"
   ]
  },
  {
   "cell_type": "code",
   "execution_count": 5,
   "id": "tender-infection",
   "metadata": {
    "scrolled": true
   },
   "outputs": [],
   "source": [
    "# deserialization\n",
    "data = json.loads(res.text)"
   ]
  },
  {
   "cell_type": "code",
   "execution_count": 6,
   "id": "labeled-liechtenstein",
   "metadata": {},
   "outputs": [],
   "source": [
    "# 상장 기업 수 체크\n",
    "num_of_listed_comp = data.get('data').get('totalrecords')"
   ]
  },
  {
   "cell_type": "code",
   "execution_count": 7,
   "id": "expected-uganda",
   "metadata": {
    "scrolled": true
   },
   "outputs": [
    {
     "name": "stdout",
     "output_type": "stream",
     "text": [
      "number of listed stocks : 7795\n"
     ]
    }
   ],
   "source": [
    "print(f\"number of listed stocks : {num_of_listed_comp}\")"
   ]
  },
  {
   "cell_type": "code",
   "execution_count": 8,
   "id": "correct-wright",
   "metadata": {},
   "outputs": [],
   "source": [
    "# 상장 기업 리스트\n",
    "stock_info = data['data']['table']['rows']\n",
    "stock_info = pd.DataFrame(stock_info)\n",
    "# 상장 종목 symbol이랑 name만 남김\n",
    "stock_list = stock_info.iloc[:,:2]"
   ]
  },
  {
   "cell_type": "code",
   "execution_count": 11,
   "id": "plastic-michael",
   "metadata": {},
   "outputs": [],
   "source": [
    "# 정규표현식 설명\n",
    "# \\,| : comma(,) 매칭\n",
    "# \\s\\(([\\w].*)\\)*| : 괄호로 쌓여있는 단어 매칭\n",
    "# (\\snew)?(\\s[\\w]*)?(\\sstock|\\sshare).*| : 'new 단어 stock', 'new 단어 share', '단어 stock', '단어 share' 뒤 모든 문자 매칭\n",
    "# ((?<=inc\\.)|(?<=inc))\\s(\\w|\\W).*|((?<=ltd\\.)|(?<=ltd))\\s(\\w|\\W).*| : inc나 ltd 뒤 모든 문자 매칭\n",
    "# (american.+[\\w].share).* : 'american 단어 share' 뒤 모든 문자 매칭\n",
    "# flag : 대소문자 무시\n",
    "\n",
    "pattern = r'''\n",
    "    \\,|\n",
    "    \\s\\(([\\w].*)\\)*|\n",
    "    (\\snew)?(\\s[\\w]*)?(\\sstock|\\sshare).*|\n",
    "    ((?<=inc\\.)|(?<=inc))\\s(\\w|\\W).*|((?<=ltd\\.)|\n",
    "    (?<=ltd))\\s(\\w|\\W).*|\n",
    "    (american.+[\\w].share+s?).*\n",
    "    '''\n",
    "regex = re.compile(pattern, flags=re.IGNORECASE)"
   ]
  },
  {
   "cell_type": "code",
   "execution_count": null,
   "id": "running-colombia",
   "metadata": {},
   "outputs": [],
   "source": [
    "for index, row in stock_list.iterrows():\n",
    "    # %가 포함 종목 제거\n",
    "    if re.search(r'\\%',row['name']):\n",
    "        stock_list = stock_list.drop(index=index)\n",
    "        continue\n",
    "\n",
    "    # 필요 없는 문자 제거\n",
    "    row['name'] = regex.sub('', row['name'])"
   ]
  },
  {
   "cell_type": "code",
   "execution_count": null,
   "id": "different-reference",
   "metadata": {},
   "outputs": [],
   "source": [
    "stock_list"
   ]
  }
 ],
 "metadata": {
  "kernelspec": {
   "display_name": "Python 3",
   "language": "python",
   "name": "python3"
  },
  "language_info": {
   "codemirror_mode": {
    "name": "ipython",
    "version": 3
   },
   "file_extension": ".py",
   "mimetype": "text/x-python",
   "name": "python",
   "nbconvert_exporter": "python",
   "pygments_lexer": "ipython3",
   "version": "3.8.5"
  }
 },
 "nbformat": 4,
 "nbformat_minor": 5
}
