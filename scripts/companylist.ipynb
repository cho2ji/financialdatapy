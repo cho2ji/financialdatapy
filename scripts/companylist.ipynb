{
 "cells": [
  {
   "cell_type": "code",
   "execution_count": 2,
   "id": "failing-eleven",
   "metadata": {},
   "outputs": [],
   "source": [
    "import json\n",
    "import requests\n",
    "import pandas as pd\n",
    "import re\n",
    "import string"
   ]
  },
  {
   "cell_type": "code",
   "execution_count": 3,
   "id": "fresh-croatia",
   "metadata": {},
   "outputs": [],
   "source": [
    "# 데이터 불러오기\n",
    "headers = {'User-Agent' : 'Mozilla/5.0 (Macintosh; Intel Mac OS X 10_15_7) AppleWebKit/537.36 (KHTML, like Gecko) Chrome/90.0.4430.212 Safari/537.36'}\n",
    "limit = 0\n",
    "api_url = f'https://api.nasdaq.com/api/screener/stocks?tableonly=true&limit={limit}'\n",
    "try:\n",
    "    res = requests.get(api_url, headers=headers)\n",
    "except Exception as e:\n",
    "    print(e)"
   ]
  },
  {
   "cell_type": "code",
   "execution_count": 4,
   "id": "tender-infection",
   "metadata": {
    "scrolled": true
   },
   "outputs": [],
   "source": [
    "# deserialization\n",
    "data = json.loads(res.text)"
   ]
  },
  {
   "cell_type": "code",
   "execution_count": 5,
   "id": "labeled-liechtenstein",
   "metadata": {},
   "outputs": [],
   "source": [
    "# 상장 종목 수 체크\n",
    "num_of_listed_comp = data.get('data').get('totalrecords')"
   ]
  },
  {
   "cell_type": "code",
   "execution_count": 6,
   "id": "expected-uganda",
   "metadata": {
    "scrolled": true
   },
   "outputs": [
    {
     "name": "stdout",
     "output_type": "stream",
     "text": [
      "number of listed stocks : 7752\n"
     ]
    }
   ],
   "source": [
    "print(f\"number of listed stocks : {num_of_listed_comp}\")"
   ]
  },
  {
   "cell_type": "code",
   "execution_count": 7,
   "id": "correct-wright",
   "metadata": {},
   "outputs": [],
   "source": [
    "# 상장 종목 리스트\n",
    "stock_info = data['data']['table']['rows']\n",
    "stock_info = pd.DataFrame(stock_info)\n",
    "# 상장 종목 symbol이랑 name만 남김\n",
    "stock_list = stock_info.iloc[:,:2]"
   ]
  },
  {
   "cell_type": "code",
   "execution_count": 8,
   "id": "plastic-michael",
   "metadata": {},
   "outputs": [],
   "source": [
    "# 정규표현식 설명\n",
    "# \\,| : comma(,) 매칭\n",
    "# \\s\\(([\\w].*)\\)*| : 괄호로 쌓여있는 단어 매칭\n",
    "# (\\snew)?(\\s[\\w]*)?(\\sstock|\\sshare).*| : 'new 단어 stock', 'new 단어 share', '단어 stock', '단어 share' 뒤 모든 문자 매칭\n",
    "# ((?<=inc\\.)|(?<=inc))\\s(\\w|\\W).*|((?<=ltd\\.)|(?<=ltd))\\s(\\w|\\W).*| : inc나 ltd 뒤 모든 문자 매칭\n",
    "# (american.+[\\w].share).* : 'american 단어 share' 뒤 모든 문자 매칭\n",
    "# flag : 대소문자 무시\n",
    "\n",
    "pattern = r'''\n",
    "    \\,|\n",
    "    \\s\\(([\\w].*)\\)*|\n",
    "    (\\snew)?(\\s[\\w]*)?(\\sstock|\\sshare).*|\n",
    "    ((?<=inc\\.)|(?<=inc))\\s(\\w|\\W).*|((?<=ltd\\.)|\n",
    "    (?<=ltd))\\s(\\w|\\W).*|\n",
    "    (american.+[\\w].share+s?).*\n",
    "    '''\n",
    "regex = re.compile(pattern, flags=re.IGNORECASE)"
   ]
  },
  {
   "cell_type": "code",
   "execution_count": 9,
   "id": "running-colombia",
   "metadata": {},
   "outputs": [],
   "source": [
    "for index, row in stock_list.iterrows():\n",
    "    # %가 포함 종목 제거\n",
    "    if re.search(r'\\%',row['name']):\n",
    "        stock_list = stock_list.drop(index=index)\n",
    "        continue\n",
    "\n",
    "    # 필요 없는 문자 제거\n",
    "    row['name'] = regex.sub('', row['name'])"
   ]
  },
  {
   "cell_type": "code",
   "execution_count": 10,
   "id": "different-reference",
   "metadata": {},
   "outputs": [
    {
     "data": {
      "text/html": [
       "<div>\n",
       "<style scoped>\n",
       "    .dataframe tbody tr th:only-of-type {\n",
       "        vertical-align: middle;\n",
       "    }\n",
       "\n",
       "    .dataframe tbody tr th {\n",
       "        vertical-align: top;\n",
       "    }\n",
       "\n",
       "    .dataframe thead th {\n",
       "        text-align: right;\n",
       "    }\n",
       "</style>\n",
       "<table border=\"1\" class=\"dataframe\">\n",
       "  <thead>\n",
       "    <tr style=\"text-align: right;\">\n",
       "      <th></th>\n",
       "      <th>symbol</th>\n",
       "      <th>name</th>\n",
       "    </tr>\n",
       "  </thead>\n",
       "  <tbody>\n",
       "    <tr>\n",
       "      <th>0</th>\n",
       "      <td>AAPL</td>\n",
       "      <td>Apple Inc. Common Stock</td>\n",
       "    </tr>\n",
       "    <tr>\n",
       "      <th>1</th>\n",
       "      <td>MSFT</td>\n",
       "      <td>Microsoft Corporation Common Stock</td>\n",
       "    </tr>\n",
       "    <tr>\n",
       "      <th>2</th>\n",
       "      <td>GOOG</td>\n",
       "      <td>Alphabet Inc. Class C Capital Stock</td>\n",
       "    </tr>\n",
       "    <tr>\n",
       "      <th>3</th>\n",
       "      <td>AMZN</td>\n",
       "      <td>Amazon.com, Inc. Common Stock</td>\n",
       "    </tr>\n",
       "    <tr>\n",
       "      <th>4</th>\n",
       "      <td>GOOGL</td>\n",
       "      <td>Alphabet Inc. Class A Common Stock</td>\n",
       "    </tr>\n",
       "    <tr>\n",
       "      <th>...</th>\n",
       "      <td>...</td>\n",
       "      <td>...</td>\n",
       "    </tr>\n",
       "    <tr>\n",
       "      <th>7747</th>\n",
       "      <td>ZIVOW</td>\n",
       "      <td>Zivo Bioscience, Inc. Warrants</td>\n",
       "    </tr>\n",
       "    <tr>\n",
       "      <th>7748</th>\n",
       "      <td>ZNTEU</td>\n",
       "      <td>Zanite Acquisition Corp. Unit</td>\n",
       "    </tr>\n",
       "    <tr>\n",
       "      <th>7749</th>\n",
       "      <td>ZNTEW</td>\n",
       "      <td>Zanite Acquisition Corp. Warrant</td>\n",
       "    </tr>\n",
       "    <tr>\n",
       "      <th>7750</th>\n",
       "      <td>ZWRKU</td>\n",
       "      <td>Z-Work Acquisition Corp. Units</td>\n",
       "    </tr>\n",
       "    <tr>\n",
       "      <th>7751</th>\n",
       "      <td>ZWRKW</td>\n",
       "      <td>Z-Work Acquisition Corp. Warrant</td>\n",
       "    </tr>\n",
       "  </tbody>\n",
       "</table>\n",
       "<p>7183 rows × 2 columns</p>\n",
       "</div>"
      ],
      "text/plain": [
       "     symbol                                 name\n",
       "0      AAPL              Apple Inc. Common Stock\n",
       "1      MSFT   Microsoft Corporation Common Stock\n",
       "2      GOOG  Alphabet Inc. Class C Capital Stock\n",
       "3      AMZN        Amazon.com, Inc. Common Stock\n",
       "4     GOOGL   Alphabet Inc. Class A Common Stock\n",
       "...     ...                                  ...\n",
       "7747  ZIVOW       Zivo Bioscience, Inc. Warrants\n",
       "7748  ZNTEU        Zanite Acquisition Corp. Unit\n",
       "7749  ZNTEW     Zanite Acquisition Corp. Warrant\n",
       "7750  ZWRKU       Z-Work Acquisition Corp. Units\n",
       "7751  ZWRKW     Z-Work Acquisition Corp. Warrant\n",
       "\n",
       "[7183 rows x 2 columns]"
      ]
     },
     "execution_count": 10,
     "metadata": {},
     "output_type": "execute_result"
    }
   ],
   "source": [
    "stock_list"
   ]
  },
  {
   "cell_type": "code",
   "execution_count": 87,
   "id": "deadly-celebrity",
   "metadata": {
    "scrolled": true
   },
   "outputs": [
    {
     "name": "stdout",
     "output_type": "stream",
     "text": [
      "Can only merge Series or DataFrame objects, a <class 'float'> was passed\n"
     ]
    }
   ],
   "source": [
    "# 상장 종목 업데이트\n",
    "old_stock_list = float('nan') # db에서 불러온 종목 리스트\n",
    "new_stock_list = stock_list\n",
    "try:\n",
    "    merged_stock_list = pd.merge(old_stock_list, new_stock_list, how='outer')\n",
    "except Exception as e:\n",
    "    print(e)"
   ]
  },
  {
   "cell_type": "code",
   "execution_count": 61,
   "id": "broad-nutrition",
   "metadata": {},
   "outputs": [
    {
     "data": {
      "text/html": [
       "<div>\n",
       "<style scoped>\n",
       "    .dataframe tbody tr th:only-of-type {\n",
       "        vertical-align: middle;\n",
       "    }\n",
       "\n",
       "    .dataframe tbody tr th {\n",
       "        vertical-align: top;\n",
       "    }\n",
       "\n",
       "    .dataframe thead th {\n",
       "        text-align: right;\n",
       "    }\n",
       "</style>\n",
       "<table border=\"1\" class=\"dataframe\">\n",
       "  <thead>\n",
       "    <tr style=\"text-align: right;\">\n",
       "      <th></th>\n",
       "      <th>symbol</th>\n",
       "      <th>name</th>\n",
       "    </tr>\n",
       "  </thead>\n",
       "  <tbody>\n",
       "    <tr>\n",
       "      <th>3</th>\n",
       "      <td>AMZN</td>\n",
       "      <td>Amazon.com Inc.</td>\n",
       "    </tr>\n",
       "    <tr>\n",
       "      <th>4</th>\n",
       "      <td>FB</td>\n",
       "      <td>Facebook Inc.</td>\n",
       "    </tr>\n",
       "  </tbody>\n",
       "</table>\n",
       "</div>"
      ],
      "text/plain": [
       "  symbol             name\n",
       "3   AMZN  Amazon.com Inc.\n",
       "4     FB    Facebook Inc."
      ]
     },
     "execution_count": 61,
     "metadata": {},
     "output_type": "execute_result"
    }
   ],
   "source": [
    "# 추가된 종목\n",
    "updated_stock_list = pd.concat([old_df, merged_stock_list]).drop_duplicates(keep=False)\n",
    "updated_stock_list"
   ]
  },
  {
   "cell_type": "code",
   "execution_count": 64,
   "id": "humanitarian-glance",
   "metadata": {
    "scrolled": false
   },
   "outputs": [
    {
     "data": {
      "text/html": [
       "<div>\n",
       "<style scoped>\n",
       "    .dataframe tbody tr th:only-of-type {\n",
       "        vertical-align: middle;\n",
       "    }\n",
       "\n",
       "    .dataframe tbody tr th {\n",
       "        vertical-align: top;\n",
       "    }\n",
       "\n",
       "    .dataframe thead th {\n",
       "        text-align: right;\n",
       "    }\n",
       "</style>\n",
       "<table border=\"1\" class=\"dataframe\">\n",
       "  <thead>\n",
       "    <tr style=\"text-align: right;\">\n",
       "      <th></th>\n",
       "      <th>symbol</th>\n",
       "      <th>name</th>\n",
       "    </tr>\n",
       "  </thead>\n",
       "  <tbody>\n",
       "    <tr>\n",
       "      <th>0</th>\n",
       "      <td>AAPL</td>\n",
       "      <td>Apple Inc.</td>\n",
       "    </tr>\n",
       "  </tbody>\n",
       "</table>\n",
       "</div>"
      ],
      "text/plain": [
       "  symbol        name\n",
       "0   AAPL  Apple Inc."
      ]
     },
     "execution_count": 64,
     "metadata": {},
     "output_type": "execute_result"
    }
   ],
   "source": [
    "# 없어진 종목\n",
    "removed_stock_list = pd.concat([new_df, merged_stock_list]).drop_duplicates(keep=False)\n",
    "removed_stock_list"
   ]
  }
 ],
 "metadata": {
  "kernelspec": {
   "display_name": "Python 3",
   "language": "python",
   "name": "python3"
  },
  "language_info": {
   "codemirror_mode": {
    "name": "ipython",
    "version": 3
   },
   "file_extension": ".py",
   "mimetype": "text/x-python",
   "name": "python",
   "nbconvert_exporter": "python",
   "pygments_lexer": "ipython3",
   "version": "3.8.5"
  }
 },
 "nbformat": 4,
 "nbformat_minor": 5
}
