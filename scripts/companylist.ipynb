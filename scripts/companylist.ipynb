{
 "cells": [
  {
   "cell_type": "code",
   "execution_count": 2,
   "id": "failing-eleven",
   "metadata": {},
   "outputs": [],
   "source": [
    "import json\n",
    "from urllib.request import urlopen\n",
    "import pandas as pd"
   ]
  },
  {
   "cell_type": "code",
   "execution_count": 3,
   "id": "fresh-croatia",
   "metadata": {},
   "outputs": [],
   "source": [
    "# API test\n",
    "api_url = 'https://www.alphavantage.co/query?function=TIME_SERIES_DAILY_ADJUSTED&symbol=IBM&apikey=demo'\n",
    "with urlopen(api_url) as f:\n",
    "    data = json.load(f)"
   ]
  },
  {
   "cell_type": "code",
   "execution_count": 4,
   "id": "present-giant",
   "metadata": {
    "scrolled": true
   },
   "outputs": [],
   "source": [
    "symbol = data['Meta Data']['2. Symbol']"
   ]
  },
  {
   "cell_type": "code",
   "execution_count": 5,
   "id": "sophisticated-element",
   "metadata": {},
   "outputs": [],
   "source": [
    "d = data['Time Series (Daily)'].items()"
   ]
  },
  {
   "cell_type": "code",
   "execution_count": 24,
   "id": "terminal-indian",
   "metadata": {},
   "outputs": [],
   "source": [
    "df = pd.DataFrame(columns=['symbol', 'date', 'close', 'volume'])"
   ]
  },
  {
   "cell_type": "code",
   "execution_count": 38,
   "id": "charged-sample",
   "metadata": {},
   "outputs": [],
   "source": [
    "for date, key in d:\n",
    "    df = df.append({'symbol' : symbol,\n",
    "                    'date' : date,\n",
    "                    'close' : key['4. close'],\n",
    "                    'volume' : key['6. volume']}, ignore_index=True)"
   ]
  },
  {
   "cell_type": "code",
   "execution_count": 39,
   "id": "starting-bathroom",
   "metadata": {},
   "outputs": [
    {
     "data": {
      "text/html": [
       "<div>\n",
       "<style scoped>\n",
       "    .dataframe tbody tr th:only-of-type {\n",
       "        vertical-align: middle;\n",
       "    }\n",
       "\n",
       "    .dataframe tbody tr th {\n",
       "        vertical-align: top;\n",
       "    }\n",
       "\n",
       "    .dataframe thead th {\n",
       "        text-align: right;\n",
       "    }\n",
       "</style>\n",
       "<table border=\"1\" class=\"dataframe\">\n",
       "  <thead>\n",
       "    <tr style=\"text-align: right;\">\n",
       "      <th></th>\n",
       "      <th>symbol</th>\n",
       "      <th>date</th>\n",
       "      <th>close</th>\n",
       "      <th>volume</th>\n",
       "    </tr>\n",
       "  </thead>\n",
       "  <tbody>\n",
       "    <tr>\n",
       "      <th>0</th>\n",
       "      <td>IBM</td>\n",
       "      <td>2021-05-26</td>\n",
       "      <td>143.38</td>\n",
       "      <td>3083789</td>\n",
       "    </tr>\n",
       "    <tr>\n",
       "      <th>1</th>\n",
       "      <td>IBM</td>\n",
       "      <td>2021-05-25</td>\n",
       "      <td>143.79</td>\n",
       "      <td>3937323</td>\n",
       "    </tr>\n",
       "    <tr>\n",
       "      <th>2</th>\n",
       "      <td>IBM</td>\n",
       "      <td>2021-05-24</td>\n",
       "      <td>144.72</td>\n",
       "      <td>3297570</td>\n",
       "    </tr>\n",
       "    <tr>\n",
       "      <th>3</th>\n",
       "      <td>IBM</td>\n",
       "      <td>2021-05-21</td>\n",
       "      <td>144.74</td>\n",
       "      <td>4033482</td>\n",
       "    </tr>\n",
       "    <tr>\n",
       "      <th>4</th>\n",
       "      <td>IBM</td>\n",
       "      <td>2021-05-20</td>\n",
       "      <td>143.88</td>\n",
       "      <td>4112690</td>\n",
       "    </tr>\n",
       "    <tr>\n",
       "      <th>...</th>\n",
       "      <td>...</td>\n",
       "      <td>...</td>\n",
       "      <td>...</td>\n",
       "      <td>...</td>\n",
       "    </tr>\n",
       "    <tr>\n",
       "      <th>195</th>\n",
       "      <td>IBM</td>\n",
       "      <td>2021-01-08</td>\n",
       "      <td>128.53</td>\n",
       "      <td>4676487</td>\n",
       "    </tr>\n",
       "    <tr>\n",
       "      <th>196</th>\n",
       "      <td>IBM</td>\n",
       "      <td>2021-01-07</td>\n",
       "      <td>128.99</td>\n",
       "      <td>4507382</td>\n",
       "    </tr>\n",
       "    <tr>\n",
       "      <th>197</th>\n",
       "      <td>IBM</td>\n",
       "      <td>2021-01-06</td>\n",
       "      <td>129.29</td>\n",
       "      <td>7956740</td>\n",
       "    </tr>\n",
       "    <tr>\n",
       "      <th>198</th>\n",
       "      <td>IBM</td>\n",
       "      <td>2021-01-05</td>\n",
       "      <td>126.14</td>\n",
       "      <td>6114619</td>\n",
       "    </tr>\n",
       "    <tr>\n",
       "      <th>199</th>\n",
       "      <td>IBM</td>\n",
       "      <td>2021-01-04</td>\n",
       "      <td>123.94</td>\n",
       "      <td>5179161</td>\n",
       "    </tr>\n",
       "  </tbody>\n",
       "</table>\n",
       "<p>200 rows × 4 columns</p>\n",
       "</div>"
      ],
      "text/plain": [
       "    symbol        date   close   volume\n",
       "0      IBM  2021-05-26  143.38  3083789\n",
       "1      IBM  2021-05-25  143.79  3937323\n",
       "2      IBM  2021-05-24  144.72  3297570\n",
       "3      IBM  2021-05-21  144.74  4033482\n",
       "4      IBM  2021-05-20  143.88  4112690\n",
       "..     ...         ...     ...      ...\n",
       "195    IBM  2021-01-08  128.53  4676487\n",
       "196    IBM  2021-01-07  128.99  4507382\n",
       "197    IBM  2021-01-06  129.29  7956740\n",
       "198    IBM  2021-01-05  126.14  6114619\n",
       "199    IBM  2021-01-04  123.94  5179161\n",
       "\n",
       "[200 rows x 4 columns]"
      ]
     },
     "execution_count": 39,
     "metadata": {},
     "output_type": "execute_result"
    }
   ],
   "source": [
    "df"
   ]
  }
 ],
 "metadata": {
  "kernelspec": {
   "display_name": "Python 3",
   "language": "python",
   "name": "python3"
  },
  "language_info": {
   "codemirror_mode": {
    "name": "ipython",
    "version": 3
   },
   "file_extension": ".py",
   "mimetype": "text/x-python",
   "name": "python",
   "nbconvert_exporter": "python",
   "pygments_lexer": "ipython3",
   "version": "3.8.5"
  }
 },
 "nbformat": 4,
 "nbformat_minor": 5
}
