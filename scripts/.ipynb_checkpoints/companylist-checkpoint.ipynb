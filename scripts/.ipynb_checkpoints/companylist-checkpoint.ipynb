{
 "cells": [
  {
   "cell_type": "code",
   "execution_count": 2,
   "id": "failing-eleven",
   "metadata": {},
   "outputs": [],
   "source": [
    "import json\n",
    "from urllib.request import urlopen\n",
    "import pandas as pd"
   ]
  },
  {
   "cell_type": "code",
   "execution_count": 3,
   "id": "fresh-croatia",
   "metadata": {},
   "outputs": [],
   "source": [
    "# API test\n",
    "api_url = 'https://www.alphavantage.co/query?function=TIME_SERIES_DAILY_ADJUSTED&symbol=IBM&apikey=demo'\n",
    "with urlopen(api_url) as f:\n",
    "    data = json.load(f)"
   ]
  },
  {
   "cell_type": "code",
   "execution_count": 4,
   "id": "present-giant",
   "metadata": {
    "scrolled": true
   },
   "outputs": [],
   "source": [
    "symbol = data['Meta Data']['2. Symbol']"
   ]
  },
  {
   "cell_type": "code",
   "execution_count": 5,
   "id": "sophisticated-element",
   "metadata": {},
   "outputs": [],
   "source": [
    "d = data['Time Series (Daily)'].items()\n",
    "historical_data = list()"
   ]
  },
  {
   "cell_type": "code",
   "execution_count": 6,
   "id": "smooth-association",
   "metadata": {},
   "outputs": [],
   "source": [
    "for key in d:\n",
    "    historical_data.append(key[1]['4. close'])"
   ]
  },
  {
   "cell_type": "code",
   "execution_count": 7,
   "id": "intelligent-fifteen",
   "metadata": {},
   "outputs": [],
   "source": [
    "name_price = {symbol:historical_data}"
   ]
  },
  {
   "cell_type": "code",
   "execution_count": 8,
   "id": "whole-jamaica",
   "metadata": {},
   "outputs": [
    {
     "data": {
      "text/plain": [
       "{'IBM': ['143.38',\n",
       "  '143.79',\n",
       "  '144.72',\n",
       "  '144.74',\n",
       "  '143.88',\n",
       "  '143.19',\n",
       "  '143.91',\n",
       "  '145.11',\n",
       "  '144.68',\n",
       "  '144.17',\n",
       "  '141.3',\n",
       "  '144.22',\n",
       "  '146.17',\n",
       "  '145.46',\n",
       "  '148.42',\n",
       "  '145.22',\n",
       "  '145.75',\n",
       "  '144.75',\n",
       "  '141.88',\n",
       "  '144.24',\n",
       "  '143.0',\n",
       "  '142.01',\n",
       "  '141.57',\n",
       "  '142.43',\n",
       "  '141.28',\n",
       "  '143.55',\n",
       "  '138.16',\n",
       "  '133.12',\n",
       "  '133.59',\n",
       "  '132.58',\n",
       "  '132.63',\n",
       "  '131.18',\n",
       "  '134.59',\n",
       "  '135.73',\n",
       "  '135.12',\n",
       "  '134.93',\n",
       "  '134.22',\n",
       "  '135.93',\n",
       "  '133.23',\n",
       "  '133.26',\n",
       "  '134.72',\n",
       "  '135.86',\n",
       "  '136.38',\n",
       "  '133.07',\n",
       "  '130.62',\n",
       "  '130.46',\n",
       "  '130.55',\n",
       "  '128.9',\n",
       "  '130.06',\n",
       "  '129.03',\n",
       "  '128.24',\n",
       "  '128.58',\n",
       "  '127.61',\n",
       "  '127.14',\n",
       "  '127.87',\n",
       "  '124.18',\n",
       "  '124.81',\n",
       "  '122.83',\n",
       "  '120.11',\n",
       "  '122.36',\n",
       "  '120.33',\n",
       "  '120.74',\n",
       "  '118.93',\n",
       "  '122.47',\n",
       "  '123.21',\n",
       "  '120.71',\n",
       "  '120.86',\n",
       "  '118.99',\n",
       "  '120.73',\n",
       "  '119.97',\n",
       "  '120.07',\n",
       "  '120.8',\n",
       "  '120.91',\n",
       "  '122.24',\n",
       "  '122.1',\n",
       "  '123.61',\n",
       "  '121.79',\n",
       "  '121.02',\n",
       "  '119.12',\n",
       "  '119.44',\n",
       "  '120.54',\n",
       "  '119.11',\n",
       "  '120.08',\n",
       "  '122.47',\n",
       "  '122.49',\n",
       "  '118.58',\n",
       "  '118.61',\n",
       "  '131.65',\n",
       "  '130.08',\n",
       "  '129.02',\n",
       "  '128.39',\n",
       "  '128.97',\n",
       "  '126.92',\n",
       "  '129.21',\n",
       "  '128.58',\n",
       "  '128.53',\n",
       "  '128.99',\n",
       "  '129.29',\n",
       "  '126.14',\n",
       "  '123.94']}"
      ]
     },
     "execution_count": 8,
     "metadata": {},
     "output_type": "execute_result"
    }
   ],
   "source": [
    "name_price"
   ]
  },
  {
   "cell_type": "code",
   "execution_count": 9,
   "id": "assigned-statistics",
   "metadata": {},
   "outputs": [],
   "source": [
    "df = pd.DataFrame(name_price)"
   ]
  },
  {
   "cell_type": "code",
   "execution_count": 10,
   "id": "polyphonic-lithuania",
   "metadata": {},
   "outputs": [
    {
     "data": {
      "text/html": [
       "<div>\n",
       "<style scoped>\n",
       "    .dataframe tbody tr th:only-of-type {\n",
       "        vertical-align: middle;\n",
       "    }\n",
       "\n",
       "    .dataframe tbody tr th {\n",
       "        vertical-align: top;\n",
       "    }\n",
       "\n",
       "    .dataframe thead th {\n",
       "        text-align: right;\n",
       "    }\n",
       "</style>\n",
       "<table border=\"1\" class=\"dataframe\">\n",
       "  <thead>\n",
       "    <tr style=\"text-align: right;\">\n",
       "      <th></th>\n",
       "      <th>IBM</th>\n",
       "    </tr>\n",
       "  </thead>\n",
       "  <tbody>\n",
       "    <tr>\n",
       "      <th>0</th>\n",
       "      <td>143.38</td>\n",
       "    </tr>\n",
       "    <tr>\n",
       "      <th>1</th>\n",
       "      <td>143.79</td>\n",
       "    </tr>\n",
       "    <tr>\n",
       "      <th>2</th>\n",
       "      <td>144.72</td>\n",
       "    </tr>\n",
       "    <tr>\n",
       "      <th>3</th>\n",
       "      <td>144.74</td>\n",
       "    </tr>\n",
       "    <tr>\n",
       "      <th>4</th>\n",
       "      <td>143.88</td>\n",
       "    </tr>\n",
       "    <tr>\n",
       "      <th>...</th>\n",
       "      <td>...</td>\n",
       "    </tr>\n",
       "    <tr>\n",
       "      <th>95</th>\n",
       "      <td>128.53</td>\n",
       "    </tr>\n",
       "    <tr>\n",
       "      <th>96</th>\n",
       "      <td>128.99</td>\n",
       "    </tr>\n",
       "    <tr>\n",
       "      <th>97</th>\n",
       "      <td>129.29</td>\n",
       "    </tr>\n",
       "    <tr>\n",
       "      <th>98</th>\n",
       "      <td>126.14</td>\n",
       "    </tr>\n",
       "    <tr>\n",
       "      <th>99</th>\n",
       "      <td>123.94</td>\n",
       "    </tr>\n",
       "  </tbody>\n",
       "</table>\n",
       "<p>100 rows × 1 columns</p>\n",
       "</div>"
      ],
      "text/plain": [
       "       IBM\n",
       "0   143.38\n",
       "1   143.79\n",
       "2   144.72\n",
       "3   144.74\n",
       "4   143.88\n",
       "..     ...\n",
       "95  128.53\n",
       "96  128.99\n",
       "97  129.29\n",
       "98  126.14\n",
       "99  123.94\n",
       "\n",
       "[100 rows x 1 columns]"
      ]
     },
     "execution_count": 10,
     "metadata": {},
     "output_type": "execute_result"
    }
   ],
   "source": [
    "df"
   ]
  },
  {
   "cell_type": "code",
   "execution_count": null,
   "id": "closing-peace",
   "metadata": {},
   "outputs": [],
   "source": []
  }
 ],
 "metadata": {
  "kernelspec": {
   "display_name": "Python 3",
   "language": "python",
   "name": "python3"
  },
  "language_info": {
   "codemirror_mode": {
    "name": "ipython",
    "version": 3
   },
   "file_extension": ".py",
   "mimetype": "text/x-python",
   "name": "python",
   "nbconvert_exporter": "python",
   "pygments_lexer": "ipython3",
   "version": "3.8.5"
  }
 },
 "nbformat": 4,
 "nbformat_minor": 5
}
