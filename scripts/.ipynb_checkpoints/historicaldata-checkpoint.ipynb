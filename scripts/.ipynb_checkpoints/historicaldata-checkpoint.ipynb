{
 "cells": [
  {
   "cell_type": "code",
   "execution_count": null,
   "id": "average-lightweight",
   "metadata": {},
   "outputs": [],
   "source": [
    "import requests"
   ]
  },
  {
   "cell_type": "code",
   "execution_count": null,
   "id": "fundamental-freedom",
   "metadata": {},
   "outputs": [],
   "source": [
    "# 과거 주가 데이터\n",
    "url = \"https://kr.investing.com/instruments/HistoricalDataAjax\"\n",
    "formData = {'curr_id': '43546',\n",
    "           'smlID': '',\n",
    "           'header': '', \n",
    "           'st_date': '2021/05/25', \n",
    "           'end_date': '2021/05/26', \n",
    "           'sort_col': 'date', \n",
    "           'sort_ord': 'DESC', \n",
    "           'interval_sec': 'Daily',\n",
    "           'action': 'historical_data'\n",
    "           }\n",
    "res = requests.post(url, data=formData, headers=headers)"
   ]
  }
 ],
 "metadata": {
  "kernelspec": {
   "display_name": "Python 3",
   "language": "python",
   "name": "python3"
  },
  "language_info": {
   "codemirror_mode": {
    "name": "ipython",
    "version": 3
   },
   "file_extension": ".py",
   "mimetype": "text/x-python",
   "name": "python",
   "nbconvert_exporter": "python",
   "pygments_lexer": "ipython3",
   "version": "3.8.5"
  }
 },
 "nbformat": 4,
 "nbformat_minor": 5
}
