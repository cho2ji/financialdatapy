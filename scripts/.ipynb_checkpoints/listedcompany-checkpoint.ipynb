{
 "cells": [
  {
   "cell_type": "code",
   "execution_count": 86,
   "id": "alien-algeria",
   "metadata": {},
   "outputs": [],
   "source": [
    "import requests\n",
    "from bs4 import BeautifulSoup as bs\n",
    "import pandas as pd"
   ]
  },
  {
   "cell_type": "code",
   "execution_count": 113,
   "id": "developmental-breakfast",
   "metadata": {},
   "outputs": [],
   "source": [
    "def get_company_list(index_id):\n",
    "    headers = {\n",
    "        'User-Agent' : 'Mozilla/5.0 (Macintosh; Intel Mac OS X 10_15_7) AppleWebKit/537.36 (KHTML, like Gecko) Chrome/90.0.4430.212 Safari/537.36',\n",
    "        'X-Requested-With' : 'XMLHttpRequest'\n",
    "    }\n",
    "    # 상장 기업 리스트\n",
    "    market = \"https://kr.investing.com/equities/StocksFilter?noconstruct=1&smlID=694&sid=&tabletype=price&index_id=\" + index_id\n",
    "    res = requests.get(market,headers=headers)\n",
    "\n",
    "    soup = bs(res.text, 'html.parser')\n",
    "    tb = soup.find('table')\n",
    "    pidAndName = tb.find_all('span','oneliner')\n",
    "\n",
    "    comp_pid_list = []\n",
    "    comp_name_list = []\n",
    "    for i in range(0,len(pidAndName)):\n",
    "        comp_pid_list.append(pidAndName[i].attrs['data-id'])\n",
    "        comp_name_list.append(pidAndName[i].attrs['data-name'])\n",
    "\n",
    "    pid_name = zip(comp_pid_list, comp_name_list)\n",
    "    df = pd.DataFrame(pid_name, columns=['pid','name'], index=list(range(1,len(comp_pid_list)+1)))\n",
    "    \n",
    "    return df"
   ]
  },
  {
   "cell_type": "code",
   "execution_count": 114,
   "id": "closing-linux",
   "metadata": {},
   "outputs": [],
   "source": [
    "kosdaq = get_company_list(\"38016\")"
   ]
  },
  {
   "cell_type": "code",
   "execution_count": null,
   "id": "informed-mirror",
   "metadata": {},
   "outputs": [],
   "source": [
    "kospi = get_company_list(\"37426\")"
   ]
  },
  {
   "cell_type": "code",
   "execution_count": 130,
   "id": "national-installation",
   "metadata": {},
   "outputs": [
    {
     "data": {
      "text/html": [
       "<div>\n",
       "<style scoped>\n",
       "    .dataframe tbody tr th:only-of-type {\n",
       "        vertical-align: middle;\n",
       "    }\n",
       "\n",
       "    .dataframe tbody tr th {\n",
       "        vertical-align: top;\n",
       "    }\n",
       "\n",
       "    .dataframe thead th {\n",
       "        text-align: right;\n",
       "    }\n",
       "</style>\n",
       "<table border=\"1\" class=\"dataframe\">\n",
       "  <thead>\n",
       "    <tr style=\"text-align: right;\">\n",
       "      <th></th>\n",
       "      <th>pid</th>\n",
       "      <th>name</th>\n",
       "    </tr>\n",
       "  </thead>\n",
       "  <tbody>\n",
       "  </tbody>\n",
       "</table>\n",
       "</div>"
      ],
      "text/plain": [
       "Empty DataFrame\n",
       "Columns: [pid, name]\n",
       "Index: []"
      ]
     },
     "execution_count": 130,
     "metadata": {},
     "output_type": "execute_result"
    }
   ],
   "source": [
    "df[df['name']==\"티에스인베스트먼트\"]"
   ]
  }
 ],
 "metadata": {
  "kernelspec": {
   "display_name": "Python 3",
   "language": "python",
   "name": "python3"
  },
  "language_info": {
   "codemirror_mode": {
    "name": "ipython",
    "version": 3
   },
   "file_extension": ".py",
   "mimetype": "text/x-python",
   "name": "python",
   "nbconvert_exporter": "python",
   "pygments_lexer": "ipython3",
   "version": "3.8.5"
  }
 },
 "nbformat": 4,
 "nbformat_minor": 5
}
