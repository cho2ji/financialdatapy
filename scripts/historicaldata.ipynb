{
 "cells": [
  {
   "cell_type": "code",
   "execution_count": null,
   "id": "checked-district",
   "metadata": {},
   "outputs": [],
   "source": [
    "import time\n",
    "import pandas as pd\n",
    "import json"
   ]
  },
  {
   "cell_type": "code",
   "execution_count": null,
   "id": "average-lightweight",
   "metadata": {},
   "outputs": [],
   "source": [
    "start_time = time.time()\n",
    "api_url = 'https://www.alphavantage.co/query?function=TIME_SERIES_DAILY_ADJUSTED&symbol=IBM&apikey=demo'\n",
    "with open(api_url) as f:\n",
    "    data = json.load(f)\n",
    "print(f\"{time.time()-start_time} s\")"
   ]
  },
  {
   "cell_type": "code",
   "execution_count": null,
   "id": "fundamental-freedom",
   "metadata": {},
   "outputs": [],
   "source": [
    "symbol = data['Meta Data']['2. Symbol']"
   ]
  },
  {
   "cell_type": "code",
   "execution_count": null,
   "id": "differential-november",
   "metadata": {},
   "outputs": [],
   "source": [
    "d = data['Time Series (Daily)'].items()"
   ]
  },
  {
   "cell_type": "code",
   "execution_count": null,
   "id": "passing-engagement",
   "metadata": {},
   "outputs": [],
   "source": [
    "df = pd.DataFrame(columns=['symbol', 'date', 'close', 'volume'])"
   ]
  },
  {
   "cell_type": "code",
   "execution_count": null,
   "id": "median-necklace",
   "metadata": {},
   "outputs": [],
   "source": [
    "for date, key in d:\n",
    "    df = df.append({'symbol' : symbol,\n",
    "                    'date' : date,\n",
    "                    'close' : key['4. close'],\n",
    "                    'volume' : key['6. volume']}, ignore_index=True)"
   ]
  },
  {
   "cell_type": "code",
   "execution_count": null,
   "id": "floating-slovak",
   "metadata": {},
   "outputs": [],
   "source": [
    "df"
   ]
  }
 ],
 "metadata": {
  "kernelspec": {
   "display_name": "Python 3",
   "language": "python",
   "name": "python3"
  },
  "language_info": {
   "codemirror_mode": {
    "name": "ipython",
    "version": 3
   },
   "file_extension": ".py",
   "mimetype": "text/x-python",
   "name": "python",
   "nbconvert_exporter": "python",
   "pygments_lexer": "ipython3",
   "version": "3.8.5"
  }
 },
 "nbformat": 4,
 "nbformat_minor": 5
}
