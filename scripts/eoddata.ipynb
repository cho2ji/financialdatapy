{
 "cells": [
  {
   "cell_type": "code",
   "execution_count": 27,
   "id": "skilled-writer",
   "metadata": {},
   "outputs": [],
   "source": [
    "import pandas as pd\n",
    "import requests"
   ]
  },
  {
   "cell_type": "code",
   "execution_count": 9,
   "id": "plain-poster",
   "metadata": {},
   "outputs": [],
   "source": [
    "nyse = pd.read_csv(\"NYSE.txt\", sep='\\t')"
   ]
  },
  {
   "cell_type": "code",
   "execution_count": null,
   "id": "latest-compact",
   "metadata": {},
   "outputs": [],
   "source": [
    "nasdaq = pd.read_csv(\"NASDAQ.txt\", sep='\\t')"
   ]
  },
  {
   "cell_type": "code",
   "execution_count": null,
   "id": "unsigned-bracket",
   "metadata": {},
   "outputs": [],
   "source": [
    "amex = pd.read_csv(\"AMEX.txt\", sep='\\t')"
   ]
  }
 ],
 "metadata": {
  "kernelspec": {
   "display_name": "Python 3",
   "language": "python",
   "name": "python3"
  },
  "language_info": {
   "codemirror_mode": {
    "name": "ipython",
    "version": 3
   },
   "file_extension": ".py",
   "mimetype": "text/x-python",
   "name": "python",
   "nbconvert_exporter": "python",
   "pygments_lexer": "ipython3",
   "version": "3.8.5"
  }
 },
 "nbformat": 4,
 "nbformat_minor": 5
}
