{
 "cells": [
  {
   "cell_type": "code",
   "execution_count": 2,
   "id": "skilled-writer",
   "metadata": {},
   "outputs": [],
   "source": [
    "import pandas as pd\n",
    "import requests\n",
    "from bs4 import BeautifulSoup"
   ]
  },
  {
   "cell_type": "code",
   "execution_count": 3,
   "id": "environmental-garden",
   "metadata": {},
   "outputs": [],
   "source": [
    "# login information to be passed into HTML requests. DO NOT DIRECTLY PUSH LOGIN INFORMATION TO YOUR GITHUB REPOSITORY!\n",
    "username = \"\"\n",
    "password = \"\"\n",
    "\n",
    "payload = {\n",
    "    \"ctl00$cph1$ls1$txtEmail\" : username,\n",
    "    \"ctl00$cph1$ls1$txtPassword\" : password,\n",
    "    \"ctl00$cph1$ls1$btnLogin\": \"Login\"\n",
    "}"
   ]
  },
  {
   "cell_type": "code",
   "execution_count": 4,
   "id": "explicit-content",
   "metadata": {
    "scrolled": true
   },
   "outputs": [],
   "source": [
    "url = \"http://www.eoddata.com/symbols.aspx\"\n",
    "\n",
    "# use Session() to make multiple requests\n",
    "with requests.Session() as s:\n",
    "    page = s.get(url)\n",
    "    soup = BeautifulSoup(page.content)\n",
    "    # additional form data passed for ASP.NET based website\n",
    "    payload[\"__VIEWSTATE\"] = soup.select_one(\"#__VIEWSTATE\")[\"value\"]\n",
    "    payload[\"__VIEWSTATEGENERATOR\"] = soup.select_one(\"#__VIEWSTATEGENERATOR\")[\"value\"]\n",
    "    payload[\"__EVENTVALIDATION\"] = soup.select_one(\"#__EVENTVALIDATION\")[\"value\"]\n",
    "    \n",
    "    res = s.post(url, data=payload)\n",
    "    \n",
    "    validation = BeautifulSoup(res.content)\n",
    "    logout = validation.select_one(\"#ctl00_cph1_ls1_lnkLogOut\")\n",
    "    \n",
    "    if logout is None:\n",
    "        print(\"Log in failed\")\n",
    "        \n",
    "    elif logout.text.lower() == 'log out':\n",
    "        # get .txt formed data\n",
    "        nyse_txt = s.get(\"http://www.eoddata.com/Data/symbollist.aspx?e=NYSE\")\n",
    "        nasdaq_txt = s.get(\"http://www.eoddata.com/Data/symbollist.aspx?e=NASDAQ\")\n",
    "        amex_txt = s.get(\"http://www.eoddata.com/Data/symbollist.aspx?e=AMEX\")"
   ]
  },
  {
   "cell_type": "code",
   "execution_count": 9,
   "id": "outstanding-white",
   "metadata": {},
   "outputs": [],
   "source": [
    "def convert_to_dataframe(text_data, exchange_name):\n",
    "    row_splitted = text_data.split('\\r\\n')\n",
    "    exchange = pd.DataFrame([x.split('\\t') for x in row_splitted], columns=['Symbol', 'Description'])\n",
    "    # remove duplicated header and blank row at the end\n",
    "    exchange = exchange.drop([exchange.index[0], exchange.index[-1]])\n",
    "    # add which exchange\n",
    "    name = pd.Series([exchange_name], name='Exchange')\n",
    "    exchange = exchange.merge(name, how='cross')\n",
    "    \n",
    "    return(exchange)"
   ]
  },
  {
   "cell_type": "code",
   "execution_count": 10,
   "id": "renewable-reply",
   "metadata": {},
   "outputs": [],
   "source": [
    "nyse = convert_to_dataframe(nyse_txt.text, 'NYSE')\n",
    "nasdaq = convert_to_dataframe(nasdaq_txt.text, 'NASDAQ')\n",
    "amex = convert_to_dataframe(amex_txt.text, 'AMEX')"
   ]
  },
  {
   "cell_type": "code",
   "execution_count": 12,
   "id": "engaging-exercise",
   "metadata": {},
   "outputs": [
    {
     "data": {
      "text/plain": [
       "pandas.core.frame.DataFrame"
      ]
     },
     "execution_count": 12,
     "metadata": {},
     "output_type": "execute_result"
    }
   ],
   "source": [
    "nyse"
   ]
  },
  {
   "cell_type": "code",
   "execution_count": 122,
   "id": "initial-kennedy",
   "metadata": {},
   "outputs": [
    {
     "data": {
      "text/html": [
       "<div>\n",
       "<style scoped>\n",
       "    .dataframe tbody tr th:only-of-type {\n",
       "        vertical-align: middle;\n",
       "    }\n",
       "\n",
       "    .dataframe tbody tr th {\n",
       "        vertical-align: top;\n",
       "    }\n",
       "\n",
       "    .dataframe thead th {\n",
       "        text-align: right;\n",
       "    }\n",
       "</style>\n",
       "<table border=\"1\" class=\"dataframe\">\n",
       "  <thead>\n",
       "    <tr style=\"text-align: right;\">\n",
       "      <th></th>\n",
       "      <th>Symbol</th>\n",
       "      <th>Description</th>\n",
       "      <th>exchange</th>\n",
       "    </tr>\n",
       "  </thead>\n",
       "  <tbody>\n",
       "    <tr>\n",
       "      <th>0</th>\n",
       "      <td>AACG</td>\n",
       "      <td>Ata Creativity Global ADR</td>\n",
       "      <td>NASDAQ</td>\n",
       "    </tr>\n",
       "    <tr>\n",
       "      <th>1</th>\n",
       "      <td>AACQ</td>\n",
       "      <td>Artius Acquisition Inc Cl A</td>\n",
       "      <td>NASDAQ</td>\n",
       "    </tr>\n",
       "    <tr>\n",
       "      <th>2</th>\n",
       "      <td>AACQU</td>\n",
       "      <td>Artius Acquisition Inc Unit</td>\n",
       "      <td>NASDAQ</td>\n",
       "    </tr>\n",
       "    <tr>\n",
       "      <th>3</th>\n",
       "      <td>AACQW</td>\n",
       "      <td>Artius Acquisition Inc WT</td>\n",
       "      <td>NASDAQ</td>\n",
       "    </tr>\n",
       "    <tr>\n",
       "      <th>4</th>\n",
       "      <td>AADR</td>\n",
       "      <td>Advisorshares Dorsey Wright ETF</td>\n",
       "      <td>NASDAQ</td>\n",
       "    </tr>\n",
       "    <tr>\n",
       "      <th>...</th>\n",
       "      <td>...</td>\n",
       "      <td>...</td>\n",
       "      <td>...</td>\n",
       "    </tr>\n",
       "    <tr>\n",
       "      <th>4826</th>\n",
       "      <td>ZWRKU</td>\n",
       "      <td>Z-Work Acquisition Corp Units</td>\n",
       "      <td>NASDAQ</td>\n",
       "    </tr>\n",
       "    <tr>\n",
       "      <th>4827</th>\n",
       "      <td>ZWRKW</td>\n",
       "      <td>Z-Work Acquisition Corp WT</td>\n",
       "      <td>NASDAQ</td>\n",
       "    </tr>\n",
       "    <tr>\n",
       "      <th>4828</th>\n",
       "      <td>ZY</td>\n",
       "      <td>Zymergen Inc</td>\n",
       "      <td>NASDAQ</td>\n",
       "    </tr>\n",
       "    <tr>\n",
       "      <th>4829</th>\n",
       "      <td>ZYNE</td>\n",
       "      <td>Zynerba Pharma CS</td>\n",
       "      <td>NASDAQ</td>\n",
       "    </tr>\n",
       "    <tr>\n",
       "      <th>4830</th>\n",
       "      <td>ZYXI</td>\n",
       "      <td>Zynex Inc</td>\n",
       "      <td>NASDAQ</td>\n",
       "    </tr>\n",
       "  </tbody>\n",
       "</table>\n",
       "<p>4831 rows × 3 columns</p>\n",
       "</div>"
      ],
      "text/plain": [
       "     Symbol                      Description exchange\n",
       "0      AACG        Ata Creativity Global ADR   NASDAQ\n",
       "1      AACQ      Artius Acquisition Inc Cl A   NASDAQ\n",
       "2     AACQU      Artius Acquisition Inc Unit   NASDAQ\n",
       "3     AACQW        Artius Acquisition Inc WT   NASDAQ\n",
       "4      AADR  Advisorshares Dorsey Wright ETF   NASDAQ\n",
       "...     ...                              ...      ...\n",
       "4826  ZWRKU    Z-Work Acquisition Corp Units   NASDAQ\n",
       "4827  ZWRKW       Z-Work Acquisition Corp WT   NASDAQ\n",
       "4828     ZY                     Zymergen Inc   NASDAQ\n",
       "4829   ZYNE                Zynerba Pharma CS   NASDAQ\n",
       "4830   ZYXI                        Zynex Inc   NASDAQ\n",
       "\n",
       "[4831 rows x 3 columns]"
      ]
     },
     "execution_count": 122,
     "metadata": {},
     "output_type": "execute_result"
    }
   ],
   "source": [
    "nasdaq"
   ]
  },
  {
   "cell_type": "code",
   "execution_count": 123,
   "id": "purple-sleep",
   "metadata": {},
   "outputs": [
    {
     "data": {
      "text/html": [
       "<div>\n",
       "<style scoped>\n",
       "    .dataframe tbody tr th:only-of-type {\n",
       "        vertical-align: middle;\n",
       "    }\n",
       "\n",
       "    .dataframe tbody tr th {\n",
       "        vertical-align: top;\n",
       "    }\n",
       "\n",
       "    .dataframe thead th {\n",
       "        text-align: right;\n",
       "    }\n",
       "</style>\n",
       "<table border=\"1\" class=\"dataframe\">\n",
       "  <thead>\n",
       "    <tr style=\"text-align: right;\">\n",
       "      <th></th>\n",
       "      <th>Symbol</th>\n",
       "      <th>Description</th>\n",
       "      <th>exchange</th>\n",
       "    </tr>\n",
       "  </thead>\n",
       "  <tbody>\n",
       "    <tr>\n",
       "      <th>0</th>\n",
       "      <td>AAA</td>\n",
       "      <td>First Priority Clo Bond ETF</td>\n",
       "      <td>AMEX</td>\n",
       "    </tr>\n",
       "    <tr>\n",
       "      <th>1</th>\n",
       "      <td>AAAU</td>\n",
       "      <td>GS Physical Gold ETF</td>\n",
       "      <td>AMEX</td>\n",
       "    </tr>\n",
       "    <tr>\n",
       "      <th>2</th>\n",
       "      <td>AADR</td>\n",
       "      <td>Advisorshares Dorsey Wright ETF</td>\n",
       "      <td>AMEX</td>\n",
       "    </tr>\n",
       "    <tr>\n",
       "      <th>3</th>\n",
       "      <td>AAMC</td>\n",
       "      <td>Altisource Asset</td>\n",
       "      <td>AMEX</td>\n",
       "    </tr>\n",
       "    <tr>\n",
       "      <th>4</th>\n",
       "      <td>AAU</td>\n",
       "      <td>Almaden Minerals</td>\n",
       "      <td>AMEX</td>\n",
       "    </tr>\n",
       "    <tr>\n",
       "      <th>...</th>\n",
       "      <td>...</td>\n",
       "      <td>...</td>\n",
       "      <td>...</td>\n",
       "    </tr>\n",
       "    <tr>\n",
       "      <th>2450</th>\n",
       "      <td>ZDGE</td>\n",
       "      <td>Zedge Inc Cl B</td>\n",
       "      <td>AMEX</td>\n",
       "    </tr>\n",
       "    <tr>\n",
       "      <th>2451</th>\n",
       "      <td>ZIG</td>\n",
       "      <td>The Acquirers Fund ETF</td>\n",
       "      <td>AMEX</td>\n",
       "    </tr>\n",
       "    <tr>\n",
       "      <th>2452</th>\n",
       "      <td>ZOM</td>\n",
       "      <td>Zomedica Pharmaceuticals Corp</td>\n",
       "      <td>AMEX</td>\n",
       "    </tr>\n",
       "    <tr>\n",
       "      <th>2453</th>\n",
       "      <td>ZROZ</td>\n",
       "      <td>25+ Year Zero Cpn U.S. Trsy Idx ETF Pimco</td>\n",
       "      <td>AMEX</td>\n",
       "    </tr>\n",
       "    <tr>\n",
       "      <th>2454</th>\n",
       "      <td>ZSL</td>\n",
       "      <td>Ultrashort Silver ETF</td>\n",
       "      <td>AMEX</td>\n",
       "    </tr>\n",
       "  </tbody>\n",
       "</table>\n",
       "<p>2455 rows × 3 columns</p>\n",
       "</div>"
      ],
      "text/plain": [
       "     Symbol                                Description exchange\n",
       "0       AAA                First Priority Clo Bond ETF     AMEX\n",
       "1      AAAU                       GS Physical Gold ETF     AMEX\n",
       "2      AADR            Advisorshares Dorsey Wright ETF     AMEX\n",
       "3      AAMC                           Altisource Asset     AMEX\n",
       "4       AAU                           Almaden Minerals     AMEX\n",
       "...     ...                                        ...      ...\n",
       "2450   ZDGE                             Zedge Inc Cl B     AMEX\n",
       "2451    ZIG                     The Acquirers Fund ETF     AMEX\n",
       "2452    ZOM              Zomedica Pharmaceuticals Corp     AMEX\n",
       "2453   ZROZ  25+ Year Zero Cpn U.S. Trsy Idx ETF Pimco     AMEX\n",
       "2454    ZSL                      Ultrashort Silver ETF     AMEX\n",
       "\n",
       "[2455 rows x 3 columns]"
      ]
     },
     "execution_count": 123,
     "metadata": {},
     "output_type": "execute_result"
    }
   ],
   "source": [
    "amex"
   ]
  },
  {
   "cell_type": "code",
   "execution_count": 15,
   "id": "subsequent-whale",
   "metadata": {},
   "outputs": [],
   "source": [
    "# make as one dataframe\n",
    "exchange_list = [nasdaq, amex]\n",
    "stock_list = nyse.append(exchange_list, ignore_index=True)"
   ]
  },
  {
   "cell_type": "code",
   "execution_count": 16,
   "id": "legislative-eligibility",
   "metadata": {},
   "outputs": [
    {
     "data": {
      "text/html": [
       "<div>\n",
       "<style scoped>\n",
       "    .dataframe tbody tr th:only-of-type {\n",
       "        vertical-align: middle;\n",
       "    }\n",
       "\n",
       "    .dataframe tbody tr th {\n",
       "        vertical-align: top;\n",
       "    }\n",
       "\n",
       "    .dataframe thead th {\n",
       "        text-align: right;\n",
       "    }\n",
       "</style>\n",
       "<table border=\"1\" class=\"dataframe\">\n",
       "  <thead>\n",
       "    <tr style=\"text-align: right;\">\n",
       "      <th></th>\n",
       "      <th>Symbol</th>\n",
       "      <th>Description</th>\n",
       "      <th>Exchange</th>\n",
       "    </tr>\n",
       "  </thead>\n",
       "  <tbody>\n",
       "  </tbody>\n",
       "</table>\n",
       "</div>"
      ],
      "text/plain": [
       "Empty DataFrame\n",
       "Columns: [Symbol, Description, Exchange]\n",
       "Index: []"
      ]
     },
     "execution_count": 16,
     "metadata": {},
     "output_type": "execute_result"
    }
   ],
   "source": [
    "# check duplicated stocks across three different exchange\n",
    "stock_list[stock_list.duplicated()]"
   ]
  },
  {
   "cell_type": "code",
   "execution_count": 17,
   "id": "grand-number",
   "metadata": {},
   "outputs": [],
   "source": [
    "stock_list = stock_list.drop_duplicates(subset=['Symbol'], ignore_index=True)"
   ]
  },
  {
   "cell_type": "code",
   "execution_count": 18,
   "id": "institutional-foundation",
   "metadata": {},
   "outputs": [],
   "source": [
    "stock_list.to_csv(\"stock_list_210705.csv\", index=False)"
   ]
  },
  {
   "cell_type": "code",
   "execution_count": 19,
   "id": "electrical-merchandise",
   "metadata": {},
   "outputs": [],
   "source": [
    "# check changes in stock list\n",
    "old = pd.read_csv(\"stock_list_210701.csv\")"
   ]
  },
  {
   "cell_type": "code",
   "execution_count": 20,
   "id": "junior-indian",
   "metadata": {
    "scrolled": true
   },
   "outputs": [
    {
     "name": "stdout",
     "output_type": "stream",
     "text": [
      "yesterday : 10929, today : 10967\n"
     ]
    }
   ],
   "source": [
    "print(f\"yesterday : {len(old)}, today : {len(stock_list)}\")"
   ]
  },
  {
   "cell_type": "code",
   "execution_count": 21,
   "id": "buried-glucose",
   "metadata": {},
   "outputs": [
    {
     "data": {
      "text/html": [
       "<div>\n",
       "<style scoped>\n",
       "    .dataframe tbody tr th:only-of-type {\n",
       "        vertical-align: middle;\n",
       "    }\n",
       "\n",
       "    .dataframe tbody tr th {\n",
       "        vertical-align: top;\n",
       "    }\n",
       "\n",
       "    .dataframe thead th {\n",
       "        text-align: right;\n",
       "    }\n",
       "</style>\n",
       "<table border=\"1\" class=\"dataframe\">\n",
       "  <thead>\n",
       "    <tr style=\"text-align: right;\">\n",
       "      <th></th>\n",
       "      <th>Symbol</th>\n",
       "      <th>Description</th>\n",
       "      <th>Exchange</th>\n",
       "      <th>_merge</th>\n",
       "    </tr>\n",
       "  </thead>\n",
       "  <tbody>\n",
       "    <tr>\n",
       "      <th>188</th>\n",
       "      <td>AMH-D</td>\n",
       "      <td>American Homes 4 Rent [Amh/Pd]</td>\n",
       "      <td>NYSE</td>\n",
       "      <td>left_only</td>\n",
       "    </tr>\n",
       "    <tr>\n",
       "      <th>737</th>\n",
       "      <td>CLGX</td>\n",
       "      <td>Corelogic</td>\n",
       "      <td>NYSE</td>\n",
       "      <td>left_only</td>\n",
       "    </tr>\n",
       "    <tr>\n",
       "      <th>880</th>\n",
       "      <td>CTB</td>\n",
       "      <td>Cooper Tire &amp; Rubber Company</td>\n",
       "      <td>NYSE</td>\n",
       "      <td>left_only</td>\n",
       "    </tr>\n",
       "    <tr>\n",
       "      <th>1886</th>\n",
       "      <td>JWS</td>\n",
       "      <td>Jaws Acquisition Corp Cl A.</td>\n",
       "      <td>NYSE</td>\n",
       "      <td>left_only</td>\n",
       "    </tr>\n",
       "    <tr>\n",
       "      <th>1889</th>\n",
       "      <td>JWS.U</td>\n",
       "      <td>Jaws Acquisition Corp [Jws.U]</td>\n",
       "      <td>NYSE</td>\n",
       "      <td>left_only</td>\n",
       "    </tr>\n",
       "    <tr>\n",
       "      <th>...</th>\n",
       "      <td>...</td>\n",
       "      <td>...</td>\n",
       "      <td>...</td>\n",
       "      <td>...</td>\n",
       "    </tr>\n",
       "    <tr>\n",
       "      <th>10980</th>\n",
       "      <td>QVMM</td>\n",
       "      <td>Invesco S&amp;P Midcap 400 Qvm Multi-Factor ETF</td>\n",
       "      <td>AMEX</td>\n",
       "      <td>right_only</td>\n",
       "    </tr>\n",
       "    <tr>\n",
       "      <th>10981</th>\n",
       "      <td>QVMS</td>\n",
       "      <td>Invesco S&amp;P Smallcap 600 Qvm Multi-Factor ETF</td>\n",
       "      <td>AMEX</td>\n",
       "      <td>right_only</td>\n",
       "    </tr>\n",
       "    <tr>\n",
       "      <th>10982</th>\n",
       "      <td>XBJL</td>\n",
       "      <td>Innovator U.S. Equity Accelerated 9 Buffer ETF J</td>\n",
       "      <td>AMEX</td>\n",
       "      <td>right_only</td>\n",
       "    </tr>\n",
       "    <tr>\n",
       "      <th>10983</th>\n",
       "      <td>XDJL</td>\n",
       "      <td>Innovator U.S. Equity Accelerated ETF July</td>\n",
       "      <td>AMEX</td>\n",
       "      <td>right_only</td>\n",
       "    </tr>\n",
       "    <tr>\n",
       "      <th>10984</th>\n",
       "      <td>XTJL</td>\n",
       "      <td>Innovator U.S. Equity Accelerated Plus ETF July</td>\n",
       "      <td>AMEX</td>\n",
       "      <td>right_only</td>\n",
       "    </tr>\n",
       "  </tbody>\n",
       "</table>\n",
       "<p>74 rows × 4 columns</p>\n",
       "</div>"
      ],
      "text/plain": [
       "      Symbol                                       Description Exchange  \\\n",
       "188    AMH-D                    American Homes 4 Rent [Amh/Pd]     NYSE   \n",
       "737     CLGX                                         Corelogic     NYSE   \n",
       "880      CTB                      Cooper Tire & Rubber Company     NYSE   \n",
       "1886     JWS                       Jaws Acquisition Corp Cl A.     NYSE   \n",
       "1889   JWS.U                     Jaws Acquisition Corp [Jws.U]     NYSE   \n",
       "...      ...                                               ...      ...   \n",
       "10980   QVMM       Invesco S&P Midcap 400 Qvm Multi-Factor ETF     AMEX   \n",
       "10981   QVMS     Invesco S&P Smallcap 600 Qvm Multi-Factor ETF     AMEX   \n",
       "10982   XBJL  Innovator U.S. Equity Accelerated 9 Buffer ETF J     AMEX   \n",
       "10983   XDJL        Innovator U.S. Equity Accelerated ETF July     AMEX   \n",
       "10984   XTJL   Innovator U.S. Equity Accelerated Plus ETF July     AMEX   \n",
       "\n",
       "           _merge  \n",
       "188     left_only  \n",
       "737     left_only  \n",
       "880     left_only  \n",
       "1886    left_only  \n",
       "1889    left_only  \n",
       "...           ...  \n",
       "10980  right_only  \n",
       "10981  right_only  \n",
       "10982  right_only  \n",
       "10983  right_only  \n",
       "10984  right_only  \n",
       "\n",
       "[74 rows x 4 columns]"
      ]
     },
     "execution_count": 21,
     "metadata": {},
     "output_type": "execute_result"
    }
   ],
   "source": [
    "changes = pd.merge(old, stock_list, how='outer', indicator=True)\n",
    "changes[changes['_merge']!='both']"
   ]
  },
  {
   "cell_type": "code",
   "execution_count": 22,
   "id": "comfortable-budapest",
   "metadata": {},
   "outputs": [
    {
     "data": {
      "text/html": [
       "<div>\n",
       "<style scoped>\n",
       "    .dataframe tbody tr th:only-of-type {\n",
       "        vertical-align: middle;\n",
       "    }\n",
       "\n",
       "    .dataframe tbody tr th {\n",
       "        vertical-align: top;\n",
       "    }\n",
       "\n",
       "    .dataframe thead th {\n",
       "        text-align: right;\n",
       "    }\n",
       "</style>\n",
       "<table border=\"1\" class=\"dataframe\">\n",
       "  <thead>\n",
       "    <tr style=\"text-align: right;\">\n",
       "      <th></th>\n",
       "      <th>Symbol</th>\n",
       "      <th>Description</th>\n",
       "      <th>Exchange</th>\n",
       "    </tr>\n",
       "  </thead>\n",
       "  <tbody>\n",
       "  </tbody>\n",
       "</table>\n",
       "</div>"
      ],
      "text/plain": [
       "Empty DataFrame\n",
       "Columns: [Symbol, Description, Exchange]\n",
       "Index: []"
      ]
     },
     "execution_count": 22,
     "metadata": {},
     "output_type": "execute_result"
    }
   ],
   "source": [
    "# search stock\n",
    "stock_list[stock_list['Symbol']=='CTB']"
   ]
  }
 ],
 "metadata": {
  "kernelspec": {
   "display_name": "Python 3",
   "language": "python",
   "name": "python3"
  },
  "language_info": {
   "codemirror_mode": {
    "name": "ipython",
    "version": 3
   },
   "file_extension": ".py",
   "mimetype": "text/x-python",
   "name": "python",
   "nbconvert_exporter": "python",
   "pygments_lexer": "ipython3",
   "version": "3.8.5"
  }
 },
 "nbformat": 4,
 "nbformat_minor": 5
}
